{
  "nbformat": 4,
  "nbformat_minor": 0,
  "metadata": {
    "colab": {
      "provenance": []
    },
    "kernelspec": {
      "name": "python3",
      "display_name": "Python 3"
    },
    "language_info": {
      "name": "python"
    }
  },
  "cells": [
    {
      "cell_type": "code",
      "source": [
        "import numpy as np\n",
        "import pandas as pd\n",
        "import matplotlib.pyplot as plt\n",
        "import seaborn as sns\n",
        "from scipy import stats\n",
        "from scipy.stats import pearsonr"
      ],
      "metadata": {
        "id": "PGjldCNlUzVc"
      },
      "execution_count": null,
      "outputs": []
    },
    {
      "cell_type": "code",
      "source": [
        "df = pd.read_csv('/content/employee_experience_survey_data.csv')"
      ],
      "metadata": {
        "id": "yToPy88j4dDv"
      },
      "execution_count": null,
      "outputs": []
    },
    {
      "cell_type": "code",
      "source": [
        "df.head()"
      ],
      "metadata": {
        "colab": {
          "base_uri": "https://localhost:8080/",
          "height": 347
        },
        "id": "zguXsfNG4fL_",
        "outputId": "2e8f39b1-aef0-47cf-f771-230382301903"
      },
      "execution_count": null,
      "outputs": [
        {
          "output_type": "execute_result",
          "data": {
            "text/plain": [
              "              Name Age Bracket  Gender       Ethnicity           Job Title  \\\n",
              "0         John Doe       25-34  Female           Asian     Product Manager   \n",
              "1       Jane Smith       18-24  Female  Middle Eastern  Operations Manager   \n",
              "2     Carlos Reyes       45-54  Female          Indian         UX Designer   \n",
              "3      Emily Zhang       35-44    Male       Caucasian         UX Designer   \n",
              "4  Michael Johnson       18-24  Female       Caucasian         UX Designer   \n",
              "\n",
              "            Department Date Survey Completed Job Satisfaction  \\\n",
              "0  Product Development            2024-10-05         Disagree   \n",
              "1                Sales            2024-10-07            Agree   \n",
              "2           Consulting            2024-10-08          Neutral   \n",
              "3                   HR            2024-10-07          Neutral   \n",
              "4  Product Development            2024-10-07            Agree   \n",
              "\n",
              "   Work-Life Balance Management Support Team Collaboration  Workload Fairness  \\\n",
              "0     Strongly Agree            Neutral            Neutral            Neutral   \n",
              "1  Strongly Disagree     Strongly Agree            Neutral            Neutral   \n",
              "2  Strongly Disagree              Agree           Disagree     Strongly Agree   \n",
              "3              Agree              Agree  Strongly Disagree  Strongly Disagree   \n",
              "4     Strongly Agree           Disagree            Neutral  Strongly Disagree   \n",
              "\n",
              "  Career Development Opportunities Workplace Inclusivity  \\\n",
              "0                         Disagree                 Agree   \n",
              "1                         Disagree               Neutral   \n",
              "2                            Agree                 Agree   \n",
              "3                   Strongly Agree                 Agree   \n",
              "4                         Disagree              Disagree   \n",
              "\n",
              "  Company Communication Compensation Satisfaction    Job Security  \\\n",
              "0        Strongly Agree            Strongly Agree           Agree   \n",
              "1               Neutral                   Neutral           Agree   \n",
              "2     Strongly Disagree                   Neutral  Strongly Agree   \n",
              "3     Strongly Disagree         Strongly Disagree           Agree   \n",
              "4              Disagree         Strongly Disagree         Neutral   \n",
              "\n",
              "  Overall Engagement  \n",
              "0     Strongly Agree  \n",
              "1            Neutral  \n",
              "2     Strongly Agree  \n",
              "3            Neutral  \n",
              "4           Disagree  "
            ],
            "text/html": [
              "\n",
              "  <div id=\"df-78eea107-eb13-4e9b-b123-32bda716bb8f\" class=\"colab-df-container\">\n",
              "    <div>\n",
              "<style scoped>\n",
              "    .dataframe tbody tr th:only-of-type {\n",
              "        vertical-align: middle;\n",
              "    }\n",
              "\n",
              "    .dataframe tbody tr th {\n",
              "        vertical-align: top;\n",
              "    }\n",
              "\n",
              "    .dataframe thead th {\n",
              "        text-align: right;\n",
              "    }\n",
              "</style>\n",
              "<table border=\"1\" class=\"dataframe\">\n",
              "  <thead>\n",
              "    <tr style=\"text-align: right;\">\n",
              "      <th></th>\n",
              "      <th>Name</th>\n",
              "      <th>Age Bracket</th>\n",
              "      <th>Gender</th>\n",
              "      <th>Ethnicity</th>\n",
              "      <th>Job Title</th>\n",
              "      <th>Department</th>\n",
              "      <th>Date Survey Completed</th>\n",
              "      <th>Job Satisfaction</th>\n",
              "      <th>Work-Life Balance</th>\n",
              "      <th>Management Support</th>\n",
              "      <th>Team Collaboration</th>\n",
              "      <th>Workload Fairness</th>\n",
              "      <th>Career Development Opportunities</th>\n",
              "      <th>Workplace Inclusivity</th>\n",
              "      <th>Company Communication</th>\n",
              "      <th>Compensation Satisfaction</th>\n",
              "      <th>Job Security</th>\n",
              "      <th>Overall Engagement</th>\n",
              "    </tr>\n",
              "  </thead>\n",
              "  <tbody>\n",
              "    <tr>\n",
              "      <th>0</th>\n",
              "      <td>John Doe</td>\n",
              "      <td>25-34</td>\n",
              "      <td>Female</td>\n",
              "      <td>Asian</td>\n",
              "      <td>Product Manager</td>\n",
              "      <td>Product Development</td>\n",
              "      <td>2024-10-05</td>\n",
              "      <td>Disagree</td>\n",
              "      <td>Strongly Agree</td>\n",
              "      <td>Neutral</td>\n",
              "      <td>Neutral</td>\n",
              "      <td>Neutral</td>\n",
              "      <td>Disagree</td>\n",
              "      <td>Agree</td>\n",
              "      <td>Strongly Agree</td>\n",
              "      <td>Strongly Agree</td>\n",
              "      <td>Agree</td>\n",
              "      <td>Strongly Agree</td>\n",
              "    </tr>\n",
              "    <tr>\n",
              "      <th>1</th>\n",
              "      <td>Jane Smith</td>\n",
              "      <td>18-24</td>\n",
              "      <td>Female</td>\n",
              "      <td>Middle Eastern</td>\n",
              "      <td>Operations Manager</td>\n",
              "      <td>Sales</td>\n",
              "      <td>2024-10-07</td>\n",
              "      <td>Agree</td>\n",
              "      <td>Strongly Disagree</td>\n",
              "      <td>Strongly Agree</td>\n",
              "      <td>Neutral</td>\n",
              "      <td>Neutral</td>\n",
              "      <td>Disagree</td>\n",
              "      <td>Neutral</td>\n",
              "      <td>Neutral</td>\n",
              "      <td>Neutral</td>\n",
              "      <td>Agree</td>\n",
              "      <td>Neutral</td>\n",
              "    </tr>\n",
              "    <tr>\n",
              "      <th>2</th>\n",
              "      <td>Carlos Reyes</td>\n",
              "      <td>45-54</td>\n",
              "      <td>Female</td>\n",
              "      <td>Indian</td>\n",
              "      <td>UX Designer</td>\n",
              "      <td>Consulting</td>\n",
              "      <td>2024-10-08</td>\n",
              "      <td>Neutral</td>\n",
              "      <td>Strongly Disagree</td>\n",
              "      <td>Agree</td>\n",
              "      <td>Disagree</td>\n",
              "      <td>Strongly Agree</td>\n",
              "      <td>Agree</td>\n",
              "      <td>Agree</td>\n",
              "      <td>Strongly Disagree</td>\n",
              "      <td>Neutral</td>\n",
              "      <td>Strongly Agree</td>\n",
              "      <td>Strongly Agree</td>\n",
              "    </tr>\n",
              "    <tr>\n",
              "      <th>3</th>\n",
              "      <td>Emily Zhang</td>\n",
              "      <td>35-44</td>\n",
              "      <td>Male</td>\n",
              "      <td>Caucasian</td>\n",
              "      <td>UX Designer</td>\n",
              "      <td>HR</td>\n",
              "      <td>2024-10-07</td>\n",
              "      <td>Neutral</td>\n",
              "      <td>Agree</td>\n",
              "      <td>Agree</td>\n",
              "      <td>Strongly Disagree</td>\n",
              "      <td>Strongly Disagree</td>\n",
              "      <td>Strongly Agree</td>\n",
              "      <td>Agree</td>\n",
              "      <td>Strongly Disagree</td>\n",
              "      <td>Strongly Disagree</td>\n",
              "      <td>Agree</td>\n",
              "      <td>Neutral</td>\n",
              "    </tr>\n",
              "    <tr>\n",
              "      <th>4</th>\n",
              "      <td>Michael Johnson</td>\n",
              "      <td>18-24</td>\n",
              "      <td>Female</td>\n",
              "      <td>Caucasian</td>\n",
              "      <td>UX Designer</td>\n",
              "      <td>Product Development</td>\n",
              "      <td>2024-10-07</td>\n",
              "      <td>Agree</td>\n",
              "      <td>Strongly Agree</td>\n",
              "      <td>Disagree</td>\n",
              "      <td>Neutral</td>\n",
              "      <td>Strongly Disagree</td>\n",
              "      <td>Disagree</td>\n",
              "      <td>Disagree</td>\n",
              "      <td>Disagree</td>\n",
              "      <td>Strongly Disagree</td>\n",
              "      <td>Neutral</td>\n",
              "      <td>Disagree</td>\n",
              "    </tr>\n",
              "  </tbody>\n",
              "</table>\n",
              "</div>\n",
              "    <div class=\"colab-df-buttons\">\n",
              "\n",
              "  <div class=\"colab-df-container\">\n",
              "    <button class=\"colab-df-convert\" onclick=\"convertToInteractive('df-78eea107-eb13-4e9b-b123-32bda716bb8f')\"\n",
              "            title=\"Convert this dataframe to an interactive table.\"\n",
              "            style=\"display:none;\">\n",
              "\n",
              "  <svg xmlns=\"http://www.w3.org/2000/svg\" height=\"24px\" viewBox=\"0 -960 960 960\">\n",
              "    <path d=\"M120-120v-720h720v720H120Zm60-500h600v-160H180v160Zm220 220h160v-160H400v160Zm0 220h160v-160H400v160ZM180-400h160v-160H180v160Zm440 0h160v-160H620v160ZM180-180h160v-160H180v160Zm440 0h160v-160H620v160Z\"/>\n",
              "  </svg>\n",
              "    </button>\n",
              "\n",
              "  <style>\n",
              "    .colab-df-container {\n",
              "      display:flex;\n",
              "      gap: 12px;\n",
              "    }\n",
              "\n",
              "    .colab-df-convert {\n",
              "      background-color: #E8F0FE;\n",
              "      border: none;\n",
              "      border-radius: 50%;\n",
              "      cursor: pointer;\n",
              "      display: none;\n",
              "      fill: #1967D2;\n",
              "      height: 32px;\n",
              "      padding: 0 0 0 0;\n",
              "      width: 32px;\n",
              "    }\n",
              "\n",
              "    .colab-df-convert:hover {\n",
              "      background-color: #E2EBFA;\n",
              "      box-shadow: 0px 1px 2px rgba(60, 64, 67, 0.3), 0px 1px 3px 1px rgba(60, 64, 67, 0.15);\n",
              "      fill: #174EA6;\n",
              "    }\n",
              "\n",
              "    .colab-df-buttons div {\n",
              "      margin-bottom: 4px;\n",
              "    }\n",
              "\n",
              "    [theme=dark] .colab-df-convert {\n",
              "      background-color: #3B4455;\n",
              "      fill: #D2E3FC;\n",
              "    }\n",
              "\n",
              "    [theme=dark] .colab-df-convert:hover {\n",
              "      background-color: #434B5C;\n",
              "      box-shadow: 0px 1px 3px 1px rgba(0, 0, 0, 0.15);\n",
              "      filter: drop-shadow(0px 1px 2px rgba(0, 0, 0, 0.3));\n",
              "      fill: #FFFFFF;\n",
              "    }\n",
              "  </style>\n",
              "\n",
              "    <script>\n",
              "      const buttonEl =\n",
              "        document.querySelector('#df-78eea107-eb13-4e9b-b123-32bda716bb8f button.colab-df-convert');\n",
              "      buttonEl.style.display =\n",
              "        google.colab.kernel.accessAllowed ? 'block' : 'none';\n",
              "\n",
              "      async function convertToInteractive(key) {\n",
              "        const element = document.querySelector('#df-78eea107-eb13-4e9b-b123-32bda716bb8f');\n",
              "        const dataTable =\n",
              "          await google.colab.kernel.invokeFunction('convertToInteractive',\n",
              "                                                    [key], {});\n",
              "        if (!dataTable) return;\n",
              "\n",
              "        const docLinkHtml = 'Like what you see? Visit the ' +\n",
              "          '<a target=\"_blank\" href=https://colab.research.google.com/notebooks/data_table.ipynb>data table notebook</a>'\n",
              "          + ' to learn more about interactive tables.';\n",
              "        element.innerHTML = '';\n",
              "        dataTable['output_type'] = 'display_data';\n",
              "        await google.colab.output.renderOutput(dataTable, element);\n",
              "        const docLink = document.createElement('div');\n",
              "        docLink.innerHTML = docLinkHtml;\n",
              "        element.appendChild(docLink);\n",
              "      }\n",
              "    </script>\n",
              "  </div>\n",
              "\n",
              "\n",
              "<div id=\"df-1c77f4a6-e94c-4144-a08e-56111b06c648\">\n",
              "  <button class=\"colab-df-quickchart\" onclick=\"quickchart('df-1c77f4a6-e94c-4144-a08e-56111b06c648')\"\n",
              "            title=\"Suggest charts\"\n",
              "            style=\"display:none;\">\n",
              "\n",
              "<svg xmlns=\"http://www.w3.org/2000/svg\" height=\"24px\"viewBox=\"0 0 24 24\"\n",
              "     width=\"24px\">\n",
              "    <g>\n",
              "        <path d=\"M19 3H5c-1.1 0-2 .9-2 2v14c0 1.1.9 2 2 2h14c1.1 0 2-.9 2-2V5c0-1.1-.9-2-2-2zM9 17H7v-7h2v7zm4 0h-2V7h2v10zm4 0h-2v-4h2v4z\"/>\n",
              "    </g>\n",
              "</svg>\n",
              "  </button>\n",
              "\n",
              "<style>\n",
              "  .colab-df-quickchart {\n",
              "      --bg-color: #E8F0FE;\n",
              "      --fill-color: #1967D2;\n",
              "      --hover-bg-color: #E2EBFA;\n",
              "      --hover-fill-color: #174EA6;\n",
              "      --disabled-fill-color: #AAA;\n",
              "      --disabled-bg-color: #DDD;\n",
              "  }\n",
              "\n",
              "  [theme=dark] .colab-df-quickchart {\n",
              "      --bg-color: #3B4455;\n",
              "      --fill-color: #D2E3FC;\n",
              "      --hover-bg-color: #434B5C;\n",
              "      --hover-fill-color: #FFFFFF;\n",
              "      --disabled-bg-color: #3B4455;\n",
              "      --disabled-fill-color: #666;\n",
              "  }\n",
              "\n",
              "  .colab-df-quickchart {\n",
              "    background-color: var(--bg-color);\n",
              "    border: none;\n",
              "    border-radius: 50%;\n",
              "    cursor: pointer;\n",
              "    display: none;\n",
              "    fill: var(--fill-color);\n",
              "    height: 32px;\n",
              "    padding: 0;\n",
              "    width: 32px;\n",
              "  }\n",
              "\n",
              "  .colab-df-quickchart:hover {\n",
              "    background-color: var(--hover-bg-color);\n",
              "    box-shadow: 0 1px 2px rgba(60, 64, 67, 0.3), 0 1px 3px 1px rgba(60, 64, 67, 0.15);\n",
              "    fill: var(--button-hover-fill-color);\n",
              "  }\n",
              "\n",
              "  .colab-df-quickchart-complete:disabled,\n",
              "  .colab-df-quickchart-complete:disabled:hover {\n",
              "    background-color: var(--disabled-bg-color);\n",
              "    fill: var(--disabled-fill-color);\n",
              "    box-shadow: none;\n",
              "  }\n",
              "\n",
              "  .colab-df-spinner {\n",
              "    border: 2px solid var(--fill-color);\n",
              "    border-color: transparent;\n",
              "    border-bottom-color: var(--fill-color);\n",
              "    animation:\n",
              "      spin 1s steps(1) infinite;\n",
              "  }\n",
              "\n",
              "  @keyframes spin {\n",
              "    0% {\n",
              "      border-color: transparent;\n",
              "      border-bottom-color: var(--fill-color);\n",
              "      border-left-color: var(--fill-color);\n",
              "    }\n",
              "    20% {\n",
              "      border-color: transparent;\n",
              "      border-left-color: var(--fill-color);\n",
              "      border-top-color: var(--fill-color);\n",
              "    }\n",
              "    30% {\n",
              "      border-color: transparent;\n",
              "      border-left-color: var(--fill-color);\n",
              "      border-top-color: var(--fill-color);\n",
              "      border-right-color: var(--fill-color);\n",
              "    }\n",
              "    40% {\n",
              "      border-color: transparent;\n",
              "      border-right-color: var(--fill-color);\n",
              "      border-top-color: var(--fill-color);\n",
              "    }\n",
              "    60% {\n",
              "      border-color: transparent;\n",
              "      border-right-color: var(--fill-color);\n",
              "    }\n",
              "    80% {\n",
              "      border-color: transparent;\n",
              "      border-right-color: var(--fill-color);\n",
              "      border-bottom-color: var(--fill-color);\n",
              "    }\n",
              "    90% {\n",
              "      border-color: transparent;\n",
              "      border-bottom-color: var(--fill-color);\n",
              "    }\n",
              "  }\n",
              "</style>\n",
              "\n",
              "  <script>\n",
              "    async function quickchart(key) {\n",
              "      const quickchartButtonEl =\n",
              "        document.querySelector('#' + key + ' button');\n",
              "      quickchartButtonEl.disabled = true;  // To prevent multiple clicks.\n",
              "      quickchartButtonEl.classList.add('colab-df-spinner');\n",
              "      try {\n",
              "        const charts = await google.colab.kernel.invokeFunction(\n",
              "            'suggestCharts', [key], {});\n",
              "      } catch (error) {\n",
              "        console.error('Error during call to suggestCharts:', error);\n",
              "      }\n",
              "      quickchartButtonEl.classList.remove('colab-df-spinner');\n",
              "      quickchartButtonEl.classList.add('colab-df-quickchart-complete');\n",
              "    }\n",
              "    (() => {\n",
              "      let quickchartButtonEl =\n",
              "        document.querySelector('#df-1c77f4a6-e94c-4144-a08e-56111b06c648 button');\n",
              "      quickchartButtonEl.style.display =\n",
              "        google.colab.kernel.accessAllowed ? 'block' : 'none';\n",
              "    })();\n",
              "  </script>\n",
              "</div>\n",
              "\n",
              "    </div>\n",
              "  </div>\n"
            ],
            "application/vnd.google.colaboratory.intrinsic+json": {
              "type": "dataframe",
              "variable_name": "df",
              "summary": "{\n  \"name\": \"df\",\n  \"rows\": 15,\n  \"fields\": [\n    {\n      \"column\": \"Name\",\n      \"properties\": {\n        \"dtype\": \"string\",\n        \"num_unique_values\": 15,\n        \"samples\": [\n          \"Amara Njeri\",\n          \"Peter Brown\",\n          \"John Doe\"\n        ],\n        \"semantic_type\": \"\",\n        \"description\": \"\"\n      }\n    },\n    {\n      \"column\": \"Age Bracket\",\n      \"properties\": {\n        \"dtype\": \"category\",\n        \"num_unique_values\": 4,\n        \"samples\": [\n          \"18-24\",\n          \"35-44\",\n          \"25-34\"\n        ],\n        \"semantic_type\": \"\",\n        \"description\": \"\"\n      }\n    },\n    {\n      \"column\": \"Gender\",\n      \"properties\": {\n        \"dtype\": \"category\",\n        \"num_unique_values\": 2,\n        \"samples\": [\n          \"Male\",\n          \"Female\"\n        ],\n        \"semantic_type\": \"\",\n        \"description\": \"\"\n      }\n    },\n    {\n      \"column\": \"Ethnicity\",\n      \"properties\": {\n        \"dtype\": \"category\",\n        \"num_unique_values\": 6,\n        \"samples\": [\n          \"Asian\",\n          \"Middle Eastern\"\n        ],\n        \"semantic_type\": \"\",\n        \"description\": \"\"\n      }\n    },\n    {\n      \"column\": \"Job Title\",\n      \"properties\": {\n        \"dtype\": \"string\",\n        \"num_unique_values\": 8,\n        \"samples\": [\n          \"Operations Manager\",\n          \"HR Specialist\"\n        ],\n        \"semantic_type\": \"\",\n        \"description\": \"\"\n      }\n    },\n    {\n      \"column\": \"Department\",\n      \"properties\": {\n        \"dtype\": \"string\",\n        \"num_unique_values\": 8,\n        \"samples\": [\n          \"Sales\",\n          \"IT\"\n        ],\n        \"semantic_type\": \"\",\n        \"description\": \"\"\n      }\n    },\n    {\n      \"column\": \"Date Survey Completed\",\n      \"properties\": {\n        \"dtype\": \"object\",\n        \"num_unique_values\": 7,\n        \"samples\": [\n          \"2024-10-05\",\n          \"2024-10-07\"\n        ],\n        \"semantic_type\": \"\",\n        \"description\": \"\"\n      }\n    },\n    {\n      \"column\": \"Job Satisfaction\",\n      \"properties\": {\n        \"dtype\": \"category\",\n        \"num_unique_values\": 5,\n        \"samples\": [\n          \"Agree\",\n          \"Strongly Disagree\"\n        ],\n        \"semantic_type\": \"\",\n        \"description\": \"\"\n      }\n    },\n    {\n      \"column\": \"Work-Life Balance\",\n      \"properties\": {\n        \"dtype\": \"category\",\n        \"num_unique_values\": 5,\n        \"samples\": [\n          \"Strongly Disagree\",\n          \"Disagree\"\n        ],\n        \"semantic_type\": \"\",\n        \"description\": \"\"\n      }\n    },\n    {\n      \"column\": \"Management Support\",\n      \"properties\": {\n        \"dtype\": \"category\",\n        \"num_unique_values\": 5,\n        \"samples\": [\n          \"Strongly Agree\",\n          \"Strongly Disagree\"\n        ],\n        \"semantic_type\": \"\",\n        \"description\": \"\"\n      }\n    },\n    {\n      \"column\": \"Team Collaboration\",\n      \"properties\": {\n        \"dtype\": \"category\",\n        \"num_unique_values\": 5,\n        \"samples\": [\n          \"Disagree\",\n          \"Agree\"\n        ],\n        \"semantic_type\": \"\",\n        \"description\": \"\"\n      }\n    },\n    {\n      \"column\": \"Workload Fairness\",\n      \"properties\": {\n        \"dtype\": \"category\",\n        \"num_unique_values\": 5,\n        \"samples\": [\n          \"Strongly Agree\",\n          \"Disagree\"\n        ],\n        \"semantic_type\": \"\",\n        \"description\": \"\"\n      }\n    },\n    {\n      \"column\": \"Career Development Opportunities\",\n      \"properties\": {\n        \"dtype\": \"category\",\n        \"num_unique_values\": 5,\n        \"samples\": [\n          \"Agree\",\n          \"Neutral\"\n        ],\n        \"semantic_type\": \"\",\n        \"description\": \"\"\n      }\n    },\n    {\n      \"column\": \"Workplace Inclusivity\",\n      \"properties\": {\n        \"dtype\": \"category\",\n        \"num_unique_values\": 4,\n        \"samples\": [\n          \"Neutral\",\n          \"Strongly Agree\"\n        ],\n        \"semantic_type\": \"\",\n        \"description\": \"\"\n      }\n    },\n    {\n      \"column\": \"Company Communication\",\n      \"properties\": {\n        \"dtype\": \"category\",\n        \"num_unique_values\": 5,\n        \"samples\": [\n          \"Neutral\",\n          \"Agree\"\n        ],\n        \"semantic_type\": \"\",\n        \"description\": \"\"\n      }\n    },\n    {\n      \"column\": \"Compensation Satisfaction\",\n      \"properties\": {\n        \"dtype\": \"category\",\n        \"num_unique_values\": 5,\n        \"samples\": [\n          \"Neutral\",\n          \"Disagree\"\n        ],\n        \"semantic_type\": \"\",\n        \"description\": \"\"\n      }\n    },\n    {\n      \"column\": \"Job Security\",\n      \"properties\": {\n        \"dtype\": \"category\",\n        \"num_unique_values\": 5,\n        \"samples\": [\n          \"Strongly Agree\",\n          \"Disagree\"\n        ],\n        \"semantic_type\": \"\",\n        \"description\": \"\"\n      }\n    },\n    {\n      \"column\": \"Overall Engagement\",\n      \"properties\": {\n        \"dtype\": \"category\",\n        \"num_unique_values\": 5,\n        \"samples\": [\n          \"Neutral\",\n          \"Strongly Disagree\"\n        ],\n        \"semantic_type\": \"\",\n        \"description\": \"\"\n      }\n    }\n  ]\n}"
            }
          },
          "metadata": {},
          "execution_count": 3
        }
      ]
    },
    {
      "cell_type": "code",
      "source": [
        "df"
      ],
      "metadata": {
        "colab": {
          "base_uri": "https://localhost:8080/",
          "height": 834
        },
        "id": "ftIBQ9Zn4flU",
        "outputId": "9b1330ad-256a-4df8-dd5e-b81bec8216bf"
      },
      "execution_count": null,
      "outputs": [
        {
          "output_type": "execute_result",
          "data": {
            "text/plain": [
              "               Name Age Bracket  Gender         Ethnicity  \\\n",
              "0          John Doe       25-34  Female             Asian   \n",
              "1        Jane Smith       18-24  Female    Middle Eastern   \n",
              "2      Carlos Reyes       45-54  Female            Indian   \n",
              "3       Emily Zhang       35-44    Male         Caucasian   \n",
              "4   Michael Johnson       18-24  Female         Caucasian   \n",
              "5        Sara Ahmed       45-54    Male    Middle Eastern   \n",
              "6         Tom Davis       25-34    Male         Caucasian   \n",
              "7       Linda Lopez       18-24    Male  African American   \n",
              "8         Raj Patel       35-44  Female            Indian   \n",
              "9       Amara Njeri       18-24    Male  African American   \n",
              "10     Helen Martin       45-54    Male             Asian   \n",
              "11      Peter Brown       18-24  Female            Indian   \n",
              "12     Nina Roberts       25-34  Female    Middle Eastern   \n",
              "13    Jake Williams       18-24  Female          Hispanic   \n",
              "14   Aisha Thompson       18-24  Female    Middle Eastern   \n",
              "\n",
              "              Job Title           Department Date Survey Completed  \\\n",
              "0       Product Manager  Product Development            2024-10-05   \n",
              "1    Operations Manager                Sales            2024-10-07   \n",
              "2           UX Designer           Consulting            2024-10-08   \n",
              "3           UX Designer                   HR            2024-10-07   \n",
              "4           UX Designer  Product Development            2024-10-07   \n",
              "5   Business Consultant           Operations            2024-10-09   \n",
              "6           UX Designer                   HR            2024-10-08   \n",
              "7      Customer Support  Product Development            2024-10-10   \n",
              "8       Product Manager                   IT            2024-10-07   \n",
              "9         HR Specialist               Design            2024-10-10   \n",
              "10        HR Specialist           Consulting            2024-10-05   \n",
              "11        HR Specialist                Sales            2024-10-12   \n",
              "12      Sales Executive                Sales            2024-10-11   \n",
              "13  Business Consultant                Sales            2024-10-08   \n",
              "14         Data Analyst              Finance            2024-10-12   \n",
              "\n",
              "     Job Satisfaction  Work-Life Balance Management Support  \\\n",
              "0            Disagree     Strongly Agree            Neutral   \n",
              "1               Agree  Strongly Disagree     Strongly Agree   \n",
              "2             Neutral  Strongly Disagree              Agree   \n",
              "3             Neutral              Agree              Agree   \n",
              "4               Agree     Strongly Agree           Disagree   \n",
              "5            Disagree  Strongly Disagree            Neutral   \n",
              "6      Strongly Agree     Strongly Agree  Strongly Disagree   \n",
              "7            Disagree              Agree            Neutral   \n",
              "8   Strongly Disagree     Strongly Agree  Strongly Disagree   \n",
              "9      Strongly Agree     Strongly Agree              Agree   \n",
              "10            Neutral            Neutral  Strongly Disagree   \n",
              "11  Strongly Disagree           Disagree              Agree   \n",
              "12           Disagree              Agree  Strongly Disagree   \n",
              "13              Agree  Strongly Disagree     Strongly Agree   \n",
              "14              Agree              Agree  Strongly Disagree   \n",
              "\n",
              "   Team Collaboration  Workload Fairness Career Development Opportunities  \\\n",
              "0             Neutral            Neutral                         Disagree   \n",
              "1             Neutral            Neutral                         Disagree   \n",
              "2            Disagree     Strongly Agree                            Agree   \n",
              "3   Strongly Disagree  Strongly Disagree                   Strongly Agree   \n",
              "4             Neutral  Strongly Disagree                         Disagree   \n",
              "5             Neutral              Agree                            Agree   \n",
              "6      Strongly Agree     Strongly Agree                Strongly Disagree   \n",
              "7   Strongly Disagree  Strongly Disagree                            Agree   \n",
              "8               Agree     Strongly Agree                            Agree   \n",
              "9               Agree     Strongly Agree                Strongly Disagree   \n",
              "10              Agree     Strongly Agree                   Strongly Agree   \n",
              "11     Strongly Agree            Neutral                            Agree   \n",
              "12  Strongly Disagree            Neutral                            Agree   \n",
              "13            Neutral            Neutral                          Neutral   \n",
              "14  Strongly Disagree           Disagree                Strongly Disagree   \n",
              "\n",
              "   Workplace Inclusivity Company Communication Compensation Satisfaction  \\\n",
              "0                  Agree        Strongly Agree            Strongly Agree   \n",
              "1                Neutral               Neutral                   Neutral   \n",
              "2                  Agree     Strongly Disagree                   Neutral   \n",
              "3                  Agree     Strongly Disagree         Strongly Disagree   \n",
              "4               Disagree              Disagree         Strongly Disagree   \n",
              "5               Disagree               Neutral                     Agree   \n",
              "6         Strongly Agree     Strongly Disagree                   Neutral   \n",
              "7                Neutral                 Agree                  Disagree   \n",
              "8                  Agree               Neutral                     Agree   \n",
              "9                Neutral                 Agree                   Neutral   \n",
              "10        Strongly Agree     Strongly Disagree                  Disagree   \n",
              "11               Neutral        Strongly Agree                   Neutral   \n",
              "12               Neutral                 Agree                  Disagree   \n",
              "13        Strongly Agree              Disagree                   Neutral   \n",
              "14              Disagree        Strongly Agree                  Disagree   \n",
              "\n",
              "         Job Security Overall Engagement  \n",
              "0               Agree     Strongly Agree  \n",
              "1               Agree            Neutral  \n",
              "2      Strongly Agree     Strongly Agree  \n",
              "3               Agree            Neutral  \n",
              "4             Neutral           Disagree  \n",
              "5   Strongly Disagree            Neutral  \n",
              "6             Neutral              Agree  \n",
              "7            Disagree              Agree  \n",
              "8      Strongly Agree           Disagree  \n",
              "9             Neutral  Strongly Disagree  \n",
              "10  Strongly Disagree            Neutral  \n",
              "11              Agree              Agree  \n",
              "12              Agree           Disagree  \n",
              "13              Agree     Strongly Agree  \n",
              "14              Agree     Strongly Agree  "
            ],
            "text/html": [
              "\n",
              "  <div id=\"df-d1dc7478-221a-42f6-8314-35b456f6bddb\" class=\"colab-df-container\">\n",
              "    <div>\n",
              "<style scoped>\n",
              "    .dataframe tbody tr th:only-of-type {\n",
              "        vertical-align: middle;\n",
              "    }\n",
              "\n",
              "    .dataframe tbody tr th {\n",
              "        vertical-align: top;\n",
              "    }\n",
              "\n",
              "    .dataframe thead th {\n",
              "        text-align: right;\n",
              "    }\n",
              "</style>\n",
              "<table border=\"1\" class=\"dataframe\">\n",
              "  <thead>\n",
              "    <tr style=\"text-align: right;\">\n",
              "      <th></th>\n",
              "      <th>Name</th>\n",
              "      <th>Age Bracket</th>\n",
              "      <th>Gender</th>\n",
              "      <th>Ethnicity</th>\n",
              "      <th>Job Title</th>\n",
              "      <th>Department</th>\n",
              "      <th>Date Survey Completed</th>\n",
              "      <th>Job Satisfaction</th>\n",
              "      <th>Work-Life Balance</th>\n",
              "      <th>Management Support</th>\n",
              "      <th>Team Collaboration</th>\n",
              "      <th>Workload Fairness</th>\n",
              "      <th>Career Development Opportunities</th>\n",
              "      <th>Workplace Inclusivity</th>\n",
              "      <th>Company Communication</th>\n",
              "      <th>Compensation Satisfaction</th>\n",
              "      <th>Job Security</th>\n",
              "      <th>Overall Engagement</th>\n",
              "    </tr>\n",
              "  </thead>\n",
              "  <tbody>\n",
              "    <tr>\n",
              "      <th>0</th>\n",
              "      <td>John Doe</td>\n",
              "      <td>25-34</td>\n",
              "      <td>Female</td>\n",
              "      <td>Asian</td>\n",
              "      <td>Product Manager</td>\n",
              "      <td>Product Development</td>\n",
              "      <td>2024-10-05</td>\n",
              "      <td>Disagree</td>\n",
              "      <td>Strongly Agree</td>\n",
              "      <td>Neutral</td>\n",
              "      <td>Neutral</td>\n",
              "      <td>Neutral</td>\n",
              "      <td>Disagree</td>\n",
              "      <td>Agree</td>\n",
              "      <td>Strongly Agree</td>\n",
              "      <td>Strongly Agree</td>\n",
              "      <td>Agree</td>\n",
              "      <td>Strongly Agree</td>\n",
              "    </tr>\n",
              "    <tr>\n",
              "      <th>1</th>\n",
              "      <td>Jane Smith</td>\n",
              "      <td>18-24</td>\n",
              "      <td>Female</td>\n",
              "      <td>Middle Eastern</td>\n",
              "      <td>Operations Manager</td>\n",
              "      <td>Sales</td>\n",
              "      <td>2024-10-07</td>\n",
              "      <td>Agree</td>\n",
              "      <td>Strongly Disagree</td>\n",
              "      <td>Strongly Agree</td>\n",
              "      <td>Neutral</td>\n",
              "      <td>Neutral</td>\n",
              "      <td>Disagree</td>\n",
              "      <td>Neutral</td>\n",
              "      <td>Neutral</td>\n",
              "      <td>Neutral</td>\n",
              "      <td>Agree</td>\n",
              "      <td>Neutral</td>\n",
              "    </tr>\n",
              "    <tr>\n",
              "      <th>2</th>\n",
              "      <td>Carlos Reyes</td>\n",
              "      <td>45-54</td>\n",
              "      <td>Female</td>\n",
              "      <td>Indian</td>\n",
              "      <td>UX Designer</td>\n",
              "      <td>Consulting</td>\n",
              "      <td>2024-10-08</td>\n",
              "      <td>Neutral</td>\n",
              "      <td>Strongly Disagree</td>\n",
              "      <td>Agree</td>\n",
              "      <td>Disagree</td>\n",
              "      <td>Strongly Agree</td>\n",
              "      <td>Agree</td>\n",
              "      <td>Agree</td>\n",
              "      <td>Strongly Disagree</td>\n",
              "      <td>Neutral</td>\n",
              "      <td>Strongly Agree</td>\n",
              "      <td>Strongly Agree</td>\n",
              "    </tr>\n",
              "    <tr>\n",
              "      <th>3</th>\n",
              "      <td>Emily Zhang</td>\n",
              "      <td>35-44</td>\n",
              "      <td>Male</td>\n",
              "      <td>Caucasian</td>\n",
              "      <td>UX Designer</td>\n",
              "      <td>HR</td>\n",
              "      <td>2024-10-07</td>\n",
              "      <td>Neutral</td>\n",
              "      <td>Agree</td>\n",
              "      <td>Agree</td>\n",
              "      <td>Strongly Disagree</td>\n",
              "      <td>Strongly Disagree</td>\n",
              "      <td>Strongly Agree</td>\n",
              "      <td>Agree</td>\n",
              "      <td>Strongly Disagree</td>\n",
              "      <td>Strongly Disagree</td>\n",
              "      <td>Agree</td>\n",
              "      <td>Neutral</td>\n",
              "    </tr>\n",
              "    <tr>\n",
              "      <th>4</th>\n",
              "      <td>Michael Johnson</td>\n",
              "      <td>18-24</td>\n",
              "      <td>Female</td>\n",
              "      <td>Caucasian</td>\n",
              "      <td>UX Designer</td>\n",
              "      <td>Product Development</td>\n",
              "      <td>2024-10-07</td>\n",
              "      <td>Agree</td>\n",
              "      <td>Strongly Agree</td>\n",
              "      <td>Disagree</td>\n",
              "      <td>Neutral</td>\n",
              "      <td>Strongly Disagree</td>\n",
              "      <td>Disagree</td>\n",
              "      <td>Disagree</td>\n",
              "      <td>Disagree</td>\n",
              "      <td>Strongly Disagree</td>\n",
              "      <td>Neutral</td>\n",
              "      <td>Disagree</td>\n",
              "    </tr>\n",
              "    <tr>\n",
              "      <th>5</th>\n",
              "      <td>Sara Ahmed</td>\n",
              "      <td>45-54</td>\n",
              "      <td>Male</td>\n",
              "      <td>Middle Eastern</td>\n",
              "      <td>Business Consultant</td>\n",
              "      <td>Operations</td>\n",
              "      <td>2024-10-09</td>\n",
              "      <td>Disagree</td>\n",
              "      <td>Strongly Disagree</td>\n",
              "      <td>Neutral</td>\n",
              "      <td>Neutral</td>\n",
              "      <td>Agree</td>\n",
              "      <td>Agree</td>\n",
              "      <td>Disagree</td>\n",
              "      <td>Neutral</td>\n",
              "      <td>Agree</td>\n",
              "      <td>Strongly Disagree</td>\n",
              "      <td>Neutral</td>\n",
              "    </tr>\n",
              "    <tr>\n",
              "      <th>6</th>\n",
              "      <td>Tom Davis</td>\n",
              "      <td>25-34</td>\n",
              "      <td>Male</td>\n",
              "      <td>Caucasian</td>\n",
              "      <td>UX Designer</td>\n",
              "      <td>HR</td>\n",
              "      <td>2024-10-08</td>\n",
              "      <td>Strongly Agree</td>\n",
              "      <td>Strongly Agree</td>\n",
              "      <td>Strongly Disagree</td>\n",
              "      <td>Strongly Agree</td>\n",
              "      <td>Strongly Agree</td>\n",
              "      <td>Strongly Disagree</td>\n",
              "      <td>Strongly Agree</td>\n",
              "      <td>Strongly Disagree</td>\n",
              "      <td>Neutral</td>\n",
              "      <td>Neutral</td>\n",
              "      <td>Agree</td>\n",
              "    </tr>\n",
              "    <tr>\n",
              "      <th>7</th>\n",
              "      <td>Linda Lopez</td>\n",
              "      <td>18-24</td>\n",
              "      <td>Male</td>\n",
              "      <td>African American</td>\n",
              "      <td>Customer Support</td>\n",
              "      <td>Product Development</td>\n",
              "      <td>2024-10-10</td>\n",
              "      <td>Disagree</td>\n",
              "      <td>Agree</td>\n",
              "      <td>Neutral</td>\n",
              "      <td>Strongly Disagree</td>\n",
              "      <td>Strongly Disagree</td>\n",
              "      <td>Agree</td>\n",
              "      <td>Neutral</td>\n",
              "      <td>Agree</td>\n",
              "      <td>Disagree</td>\n",
              "      <td>Disagree</td>\n",
              "      <td>Agree</td>\n",
              "    </tr>\n",
              "    <tr>\n",
              "      <th>8</th>\n",
              "      <td>Raj Patel</td>\n",
              "      <td>35-44</td>\n",
              "      <td>Female</td>\n",
              "      <td>Indian</td>\n",
              "      <td>Product Manager</td>\n",
              "      <td>IT</td>\n",
              "      <td>2024-10-07</td>\n",
              "      <td>Strongly Disagree</td>\n",
              "      <td>Strongly Agree</td>\n",
              "      <td>Strongly Disagree</td>\n",
              "      <td>Agree</td>\n",
              "      <td>Strongly Agree</td>\n",
              "      <td>Agree</td>\n",
              "      <td>Agree</td>\n",
              "      <td>Neutral</td>\n",
              "      <td>Agree</td>\n",
              "      <td>Strongly Agree</td>\n",
              "      <td>Disagree</td>\n",
              "    </tr>\n",
              "    <tr>\n",
              "      <th>9</th>\n",
              "      <td>Amara Njeri</td>\n",
              "      <td>18-24</td>\n",
              "      <td>Male</td>\n",
              "      <td>African American</td>\n",
              "      <td>HR Specialist</td>\n",
              "      <td>Design</td>\n",
              "      <td>2024-10-10</td>\n",
              "      <td>Strongly Agree</td>\n",
              "      <td>Strongly Agree</td>\n",
              "      <td>Agree</td>\n",
              "      <td>Agree</td>\n",
              "      <td>Strongly Agree</td>\n",
              "      <td>Strongly Disagree</td>\n",
              "      <td>Neutral</td>\n",
              "      <td>Agree</td>\n",
              "      <td>Neutral</td>\n",
              "      <td>Neutral</td>\n",
              "      <td>Strongly Disagree</td>\n",
              "    </tr>\n",
              "    <tr>\n",
              "      <th>10</th>\n",
              "      <td>Helen Martin</td>\n",
              "      <td>45-54</td>\n",
              "      <td>Male</td>\n",
              "      <td>Asian</td>\n",
              "      <td>HR Specialist</td>\n",
              "      <td>Consulting</td>\n",
              "      <td>2024-10-05</td>\n",
              "      <td>Neutral</td>\n",
              "      <td>Neutral</td>\n",
              "      <td>Strongly Disagree</td>\n",
              "      <td>Agree</td>\n",
              "      <td>Strongly Agree</td>\n",
              "      <td>Strongly Agree</td>\n",
              "      <td>Strongly Agree</td>\n",
              "      <td>Strongly Disagree</td>\n",
              "      <td>Disagree</td>\n",
              "      <td>Strongly Disagree</td>\n",
              "      <td>Neutral</td>\n",
              "    </tr>\n",
              "    <tr>\n",
              "      <th>11</th>\n",
              "      <td>Peter Brown</td>\n",
              "      <td>18-24</td>\n",
              "      <td>Female</td>\n",
              "      <td>Indian</td>\n",
              "      <td>HR Specialist</td>\n",
              "      <td>Sales</td>\n",
              "      <td>2024-10-12</td>\n",
              "      <td>Strongly Disagree</td>\n",
              "      <td>Disagree</td>\n",
              "      <td>Agree</td>\n",
              "      <td>Strongly Agree</td>\n",
              "      <td>Neutral</td>\n",
              "      <td>Agree</td>\n",
              "      <td>Neutral</td>\n",
              "      <td>Strongly Agree</td>\n",
              "      <td>Neutral</td>\n",
              "      <td>Agree</td>\n",
              "      <td>Agree</td>\n",
              "    </tr>\n",
              "    <tr>\n",
              "      <th>12</th>\n",
              "      <td>Nina Roberts</td>\n",
              "      <td>25-34</td>\n",
              "      <td>Female</td>\n",
              "      <td>Middle Eastern</td>\n",
              "      <td>Sales Executive</td>\n",
              "      <td>Sales</td>\n",
              "      <td>2024-10-11</td>\n",
              "      <td>Disagree</td>\n",
              "      <td>Agree</td>\n",
              "      <td>Strongly Disagree</td>\n",
              "      <td>Strongly Disagree</td>\n",
              "      <td>Neutral</td>\n",
              "      <td>Agree</td>\n",
              "      <td>Neutral</td>\n",
              "      <td>Agree</td>\n",
              "      <td>Disagree</td>\n",
              "      <td>Agree</td>\n",
              "      <td>Disagree</td>\n",
              "    </tr>\n",
              "    <tr>\n",
              "      <th>13</th>\n",
              "      <td>Jake Williams</td>\n",
              "      <td>18-24</td>\n",
              "      <td>Female</td>\n",
              "      <td>Hispanic</td>\n",
              "      <td>Business Consultant</td>\n",
              "      <td>Sales</td>\n",
              "      <td>2024-10-08</td>\n",
              "      <td>Agree</td>\n",
              "      <td>Strongly Disagree</td>\n",
              "      <td>Strongly Agree</td>\n",
              "      <td>Neutral</td>\n",
              "      <td>Neutral</td>\n",
              "      <td>Neutral</td>\n",
              "      <td>Strongly Agree</td>\n",
              "      <td>Disagree</td>\n",
              "      <td>Neutral</td>\n",
              "      <td>Agree</td>\n",
              "      <td>Strongly Agree</td>\n",
              "    </tr>\n",
              "    <tr>\n",
              "      <th>14</th>\n",
              "      <td>Aisha Thompson</td>\n",
              "      <td>18-24</td>\n",
              "      <td>Female</td>\n",
              "      <td>Middle Eastern</td>\n",
              "      <td>Data Analyst</td>\n",
              "      <td>Finance</td>\n",
              "      <td>2024-10-12</td>\n",
              "      <td>Agree</td>\n",
              "      <td>Agree</td>\n",
              "      <td>Strongly Disagree</td>\n",
              "      <td>Strongly Disagree</td>\n",
              "      <td>Disagree</td>\n",
              "      <td>Strongly Disagree</td>\n",
              "      <td>Disagree</td>\n",
              "      <td>Strongly Agree</td>\n",
              "      <td>Disagree</td>\n",
              "      <td>Agree</td>\n",
              "      <td>Strongly Agree</td>\n",
              "    </tr>\n",
              "  </tbody>\n",
              "</table>\n",
              "</div>\n",
              "    <div class=\"colab-df-buttons\">\n",
              "\n",
              "  <div class=\"colab-df-container\">\n",
              "    <button class=\"colab-df-convert\" onclick=\"convertToInteractive('df-d1dc7478-221a-42f6-8314-35b456f6bddb')\"\n",
              "            title=\"Convert this dataframe to an interactive table.\"\n",
              "            style=\"display:none;\">\n",
              "\n",
              "  <svg xmlns=\"http://www.w3.org/2000/svg\" height=\"24px\" viewBox=\"0 -960 960 960\">\n",
              "    <path d=\"M120-120v-720h720v720H120Zm60-500h600v-160H180v160Zm220 220h160v-160H400v160Zm0 220h160v-160H400v160ZM180-400h160v-160H180v160Zm440 0h160v-160H620v160ZM180-180h160v-160H180v160Zm440 0h160v-160H620v160Z\"/>\n",
              "  </svg>\n",
              "    </button>\n",
              "\n",
              "  <style>\n",
              "    .colab-df-container {\n",
              "      display:flex;\n",
              "      gap: 12px;\n",
              "    }\n",
              "\n",
              "    .colab-df-convert {\n",
              "      background-color: #E8F0FE;\n",
              "      border: none;\n",
              "      border-radius: 50%;\n",
              "      cursor: pointer;\n",
              "      display: none;\n",
              "      fill: #1967D2;\n",
              "      height: 32px;\n",
              "      padding: 0 0 0 0;\n",
              "      width: 32px;\n",
              "    }\n",
              "\n",
              "    .colab-df-convert:hover {\n",
              "      background-color: #E2EBFA;\n",
              "      box-shadow: 0px 1px 2px rgba(60, 64, 67, 0.3), 0px 1px 3px 1px rgba(60, 64, 67, 0.15);\n",
              "      fill: #174EA6;\n",
              "    }\n",
              "\n",
              "    .colab-df-buttons div {\n",
              "      margin-bottom: 4px;\n",
              "    }\n",
              "\n",
              "    [theme=dark] .colab-df-convert {\n",
              "      background-color: #3B4455;\n",
              "      fill: #D2E3FC;\n",
              "    }\n",
              "\n",
              "    [theme=dark] .colab-df-convert:hover {\n",
              "      background-color: #434B5C;\n",
              "      box-shadow: 0px 1px 3px 1px rgba(0, 0, 0, 0.15);\n",
              "      filter: drop-shadow(0px 1px 2px rgba(0, 0, 0, 0.3));\n",
              "      fill: #FFFFFF;\n",
              "    }\n",
              "  </style>\n",
              "\n",
              "    <script>\n",
              "      const buttonEl =\n",
              "        document.querySelector('#df-d1dc7478-221a-42f6-8314-35b456f6bddb button.colab-df-convert');\n",
              "      buttonEl.style.display =\n",
              "        google.colab.kernel.accessAllowed ? 'block' : 'none';\n",
              "\n",
              "      async function convertToInteractive(key) {\n",
              "        const element = document.querySelector('#df-d1dc7478-221a-42f6-8314-35b456f6bddb');\n",
              "        const dataTable =\n",
              "          await google.colab.kernel.invokeFunction('convertToInteractive',\n",
              "                                                    [key], {});\n",
              "        if (!dataTable) return;\n",
              "\n",
              "        const docLinkHtml = 'Like what you see? Visit the ' +\n",
              "          '<a target=\"_blank\" href=https://colab.research.google.com/notebooks/data_table.ipynb>data table notebook</a>'\n",
              "          + ' to learn more about interactive tables.';\n",
              "        element.innerHTML = '';\n",
              "        dataTable['output_type'] = 'display_data';\n",
              "        await google.colab.output.renderOutput(dataTable, element);\n",
              "        const docLink = document.createElement('div');\n",
              "        docLink.innerHTML = docLinkHtml;\n",
              "        element.appendChild(docLink);\n",
              "      }\n",
              "    </script>\n",
              "  </div>\n",
              "\n",
              "\n",
              "<div id=\"df-cee49166-1cf5-4399-b75c-481cdd4bdb89\">\n",
              "  <button class=\"colab-df-quickchart\" onclick=\"quickchart('df-cee49166-1cf5-4399-b75c-481cdd4bdb89')\"\n",
              "            title=\"Suggest charts\"\n",
              "            style=\"display:none;\">\n",
              "\n",
              "<svg xmlns=\"http://www.w3.org/2000/svg\" height=\"24px\"viewBox=\"0 0 24 24\"\n",
              "     width=\"24px\">\n",
              "    <g>\n",
              "        <path d=\"M19 3H5c-1.1 0-2 .9-2 2v14c0 1.1.9 2 2 2h14c1.1 0 2-.9 2-2V5c0-1.1-.9-2-2-2zM9 17H7v-7h2v7zm4 0h-2V7h2v10zm4 0h-2v-4h2v4z\"/>\n",
              "    </g>\n",
              "</svg>\n",
              "  </button>\n",
              "\n",
              "<style>\n",
              "  .colab-df-quickchart {\n",
              "      --bg-color: #E8F0FE;\n",
              "      --fill-color: #1967D2;\n",
              "      --hover-bg-color: #E2EBFA;\n",
              "      --hover-fill-color: #174EA6;\n",
              "      --disabled-fill-color: #AAA;\n",
              "      --disabled-bg-color: #DDD;\n",
              "  }\n",
              "\n",
              "  [theme=dark] .colab-df-quickchart {\n",
              "      --bg-color: #3B4455;\n",
              "      --fill-color: #D2E3FC;\n",
              "      --hover-bg-color: #434B5C;\n",
              "      --hover-fill-color: #FFFFFF;\n",
              "      --disabled-bg-color: #3B4455;\n",
              "      --disabled-fill-color: #666;\n",
              "  }\n",
              "\n",
              "  .colab-df-quickchart {\n",
              "    background-color: var(--bg-color);\n",
              "    border: none;\n",
              "    border-radius: 50%;\n",
              "    cursor: pointer;\n",
              "    display: none;\n",
              "    fill: var(--fill-color);\n",
              "    height: 32px;\n",
              "    padding: 0;\n",
              "    width: 32px;\n",
              "  }\n",
              "\n",
              "  .colab-df-quickchart:hover {\n",
              "    background-color: var(--hover-bg-color);\n",
              "    box-shadow: 0 1px 2px rgba(60, 64, 67, 0.3), 0 1px 3px 1px rgba(60, 64, 67, 0.15);\n",
              "    fill: var(--button-hover-fill-color);\n",
              "  }\n",
              "\n",
              "  .colab-df-quickchart-complete:disabled,\n",
              "  .colab-df-quickchart-complete:disabled:hover {\n",
              "    background-color: var(--disabled-bg-color);\n",
              "    fill: var(--disabled-fill-color);\n",
              "    box-shadow: none;\n",
              "  }\n",
              "\n",
              "  .colab-df-spinner {\n",
              "    border: 2px solid var(--fill-color);\n",
              "    border-color: transparent;\n",
              "    border-bottom-color: var(--fill-color);\n",
              "    animation:\n",
              "      spin 1s steps(1) infinite;\n",
              "  }\n",
              "\n",
              "  @keyframes spin {\n",
              "    0% {\n",
              "      border-color: transparent;\n",
              "      border-bottom-color: var(--fill-color);\n",
              "      border-left-color: var(--fill-color);\n",
              "    }\n",
              "    20% {\n",
              "      border-color: transparent;\n",
              "      border-left-color: var(--fill-color);\n",
              "      border-top-color: var(--fill-color);\n",
              "    }\n",
              "    30% {\n",
              "      border-color: transparent;\n",
              "      border-left-color: var(--fill-color);\n",
              "      border-top-color: var(--fill-color);\n",
              "      border-right-color: var(--fill-color);\n",
              "    }\n",
              "    40% {\n",
              "      border-color: transparent;\n",
              "      border-right-color: var(--fill-color);\n",
              "      border-top-color: var(--fill-color);\n",
              "    }\n",
              "    60% {\n",
              "      border-color: transparent;\n",
              "      border-right-color: var(--fill-color);\n",
              "    }\n",
              "    80% {\n",
              "      border-color: transparent;\n",
              "      border-right-color: var(--fill-color);\n",
              "      border-bottom-color: var(--fill-color);\n",
              "    }\n",
              "    90% {\n",
              "      border-color: transparent;\n",
              "      border-bottom-color: var(--fill-color);\n",
              "    }\n",
              "  }\n",
              "</style>\n",
              "\n",
              "  <script>\n",
              "    async function quickchart(key) {\n",
              "      const quickchartButtonEl =\n",
              "        document.querySelector('#' + key + ' button');\n",
              "      quickchartButtonEl.disabled = true;  // To prevent multiple clicks.\n",
              "      quickchartButtonEl.classList.add('colab-df-spinner');\n",
              "      try {\n",
              "        const charts = await google.colab.kernel.invokeFunction(\n",
              "            'suggestCharts', [key], {});\n",
              "      } catch (error) {\n",
              "        console.error('Error during call to suggestCharts:', error);\n",
              "      }\n",
              "      quickchartButtonEl.classList.remove('colab-df-spinner');\n",
              "      quickchartButtonEl.classList.add('colab-df-quickchart-complete');\n",
              "    }\n",
              "    (() => {\n",
              "      let quickchartButtonEl =\n",
              "        document.querySelector('#df-cee49166-1cf5-4399-b75c-481cdd4bdb89 button');\n",
              "      quickchartButtonEl.style.display =\n",
              "        google.colab.kernel.accessAllowed ? 'block' : 'none';\n",
              "    })();\n",
              "  </script>\n",
              "</div>\n",
              "\n",
              "  <div id=\"id_67cd952f-ffca-4d9d-9b55-80fa789096ac\">\n",
              "    <style>\n",
              "      .colab-df-generate {\n",
              "        background-color: #E8F0FE;\n",
              "        border: none;\n",
              "        border-radius: 50%;\n",
              "        cursor: pointer;\n",
              "        display: none;\n",
              "        fill: #1967D2;\n",
              "        height: 32px;\n",
              "        padding: 0 0 0 0;\n",
              "        width: 32px;\n",
              "      }\n",
              "\n",
              "      .colab-df-generate:hover {\n",
              "        background-color: #E2EBFA;\n",
              "        box-shadow: 0px 1px 2px rgba(60, 64, 67, 0.3), 0px 1px 3px 1px rgba(60, 64, 67, 0.15);\n",
              "        fill: #174EA6;\n",
              "      }\n",
              "\n",
              "      [theme=dark] .colab-df-generate {\n",
              "        background-color: #3B4455;\n",
              "        fill: #D2E3FC;\n",
              "      }\n",
              "\n",
              "      [theme=dark] .colab-df-generate:hover {\n",
              "        background-color: #434B5C;\n",
              "        box-shadow: 0px 1px 3px 1px rgba(0, 0, 0, 0.15);\n",
              "        filter: drop-shadow(0px 1px 2px rgba(0, 0, 0, 0.3));\n",
              "        fill: #FFFFFF;\n",
              "      }\n",
              "    </style>\n",
              "    <button class=\"colab-df-generate\" onclick=\"generateWithVariable('df')\"\n",
              "            title=\"Generate code using this dataframe.\"\n",
              "            style=\"display:none;\">\n",
              "\n",
              "  <svg xmlns=\"http://www.w3.org/2000/svg\" height=\"24px\"viewBox=\"0 0 24 24\"\n",
              "       width=\"24px\">\n",
              "    <path d=\"M7,19H8.4L18.45,9,17,7.55,7,17.6ZM5,21V16.75L18.45,3.32a2,2,0,0,1,2.83,0l1.4,1.43a1.91,1.91,0,0,1,.58,1.4,1.91,1.91,0,0,1-.58,1.4L9.25,21ZM18.45,9,17,7.55Zm-12,3A5.31,5.31,0,0,0,4.9,8.1,5.31,5.31,0,0,0,1,6.5,5.31,5.31,0,0,0,4.9,4.9,5.31,5.31,0,0,0,6.5,1,5.31,5.31,0,0,0,8.1,4.9,5.31,5.31,0,0,0,12,6.5,5.46,5.46,0,0,0,6.5,12Z\"/>\n",
              "  </svg>\n",
              "    </button>\n",
              "    <script>\n",
              "      (() => {\n",
              "      const buttonEl =\n",
              "        document.querySelector('#id_67cd952f-ffca-4d9d-9b55-80fa789096ac button.colab-df-generate');\n",
              "      buttonEl.style.display =\n",
              "        google.colab.kernel.accessAllowed ? 'block' : 'none';\n",
              "\n",
              "      buttonEl.onclick = () => {\n",
              "        google.colab.notebook.generateWithVariable('df');\n",
              "      }\n",
              "      })();\n",
              "    </script>\n",
              "  </div>\n",
              "\n",
              "    </div>\n",
              "  </div>\n"
            ],
            "application/vnd.google.colaboratory.intrinsic+json": {
              "type": "dataframe",
              "variable_name": "df",
              "summary": "{\n  \"name\": \"df\",\n  \"rows\": 15,\n  \"fields\": [\n    {\n      \"column\": \"Name\",\n      \"properties\": {\n        \"dtype\": \"string\",\n        \"num_unique_values\": 15,\n        \"samples\": [\n          \"Amara Njeri\",\n          \"Peter Brown\",\n          \"John Doe\"\n        ],\n        \"semantic_type\": \"\",\n        \"description\": \"\"\n      }\n    },\n    {\n      \"column\": \"Age Bracket\",\n      \"properties\": {\n        \"dtype\": \"category\",\n        \"num_unique_values\": 4,\n        \"samples\": [\n          \"18-24\",\n          \"35-44\",\n          \"25-34\"\n        ],\n        \"semantic_type\": \"\",\n        \"description\": \"\"\n      }\n    },\n    {\n      \"column\": \"Gender\",\n      \"properties\": {\n        \"dtype\": \"category\",\n        \"num_unique_values\": 2,\n        \"samples\": [\n          \"Male\",\n          \"Female\"\n        ],\n        \"semantic_type\": \"\",\n        \"description\": \"\"\n      }\n    },\n    {\n      \"column\": \"Ethnicity\",\n      \"properties\": {\n        \"dtype\": \"category\",\n        \"num_unique_values\": 6,\n        \"samples\": [\n          \"Asian\",\n          \"Middle Eastern\"\n        ],\n        \"semantic_type\": \"\",\n        \"description\": \"\"\n      }\n    },\n    {\n      \"column\": \"Job Title\",\n      \"properties\": {\n        \"dtype\": \"string\",\n        \"num_unique_values\": 8,\n        \"samples\": [\n          \"Operations Manager\",\n          \"HR Specialist\"\n        ],\n        \"semantic_type\": \"\",\n        \"description\": \"\"\n      }\n    },\n    {\n      \"column\": \"Department\",\n      \"properties\": {\n        \"dtype\": \"string\",\n        \"num_unique_values\": 8,\n        \"samples\": [\n          \"Sales\",\n          \"IT\"\n        ],\n        \"semantic_type\": \"\",\n        \"description\": \"\"\n      }\n    },\n    {\n      \"column\": \"Date Survey Completed\",\n      \"properties\": {\n        \"dtype\": \"object\",\n        \"num_unique_values\": 7,\n        \"samples\": [\n          \"2024-10-05\",\n          \"2024-10-07\"\n        ],\n        \"semantic_type\": \"\",\n        \"description\": \"\"\n      }\n    },\n    {\n      \"column\": \"Job Satisfaction\",\n      \"properties\": {\n        \"dtype\": \"category\",\n        \"num_unique_values\": 5,\n        \"samples\": [\n          \"Agree\",\n          \"Strongly Disagree\"\n        ],\n        \"semantic_type\": \"\",\n        \"description\": \"\"\n      }\n    },\n    {\n      \"column\": \"Work-Life Balance\",\n      \"properties\": {\n        \"dtype\": \"category\",\n        \"num_unique_values\": 5,\n        \"samples\": [\n          \"Strongly Disagree\",\n          \"Disagree\"\n        ],\n        \"semantic_type\": \"\",\n        \"description\": \"\"\n      }\n    },\n    {\n      \"column\": \"Management Support\",\n      \"properties\": {\n        \"dtype\": \"category\",\n        \"num_unique_values\": 5,\n        \"samples\": [\n          \"Strongly Agree\",\n          \"Strongly Disagree\"\n        ],\n        \"semantic_type\": \"\",\n        \"description\": \"\"\n      }\n    },\n    {\n      \"column\": \"Team Collaboration\",\n      \"properties\": {\n        \"dtype\": \"category\",\n        \"num_unique_values\": 5,\n        \"samples\": [\n          \"Disagree\",\n          \"Agree\"\n        ],\n        \"semantic_type\": \"\",\n        \"description\": \"\"\n      }\n    },\n    {\n      \"column\": \"Workload Fairness\",\n      \"properties\": {\n        \"dtype\": \"category\",\n        \"num_unique_values\": 5,\n        \"samples\": [\n          \"Strongly Agree\",\n          \"Disagree\"\n        ],\n        \"semantic_type\": \"\",\n        \"description\": \"\"\n      }\n    },\n    {\n      \"column\": \"Career Development Opportunities\",\n      \"properties\": {\n        \"dtype\": \"category\",\n        \"num_unique_values\": 5,\n        \"samples\": [\n          \"Agree\",\n          \"Neutral\"\n        ],\n        \"semantic_type\": \"\",\n        \"description\": \"\"\n      }\n    },\n    {\n      \"column\": \"Workplace Inclusivity\",\n      \"properties\": {\n        \"dtype\": \"category\",\n        \"num_unique_values\": 4,\n        \"samples\": [\n          \"Neutral\",\n          \"Strongly Agree\"\n        ],\n        \"semantic_type\": \"\",\n        \"description\": \"\"\n      }\n    },\n    {\n      \"column\": \"Company Communication\",\n      \"properties\": {\n        \"dtype\": \"category\",\n        \"num_unique_values\": 5,\n        \"samples\": [\n          \"Neutral\",\n          \"Agree\"\n        ],\n        \"semantic_type\": \"\",\n        \"description\": \"\"\n      }\n    },\n    {\n      \"column\": \"Compensation Satisfaction\",\n      \"properties\": {\n        \"dtype\": \"category\",\n        \"num_unique_values\": 5,\n        \"samples\": [\n          \"Neutral\",\n          \"Disagree\"\n        ],\n        \"semantic_type\": \"\",\n        \"description\": \"\"\n      }\n    },\n    {\n      \"column\": \"Job Security\",\n      \"properties\": {\n        \"dtype\": \"category\",\n        \"num_unique_values\": 5,\n        \"samples\": [\n          \"Strongly Agree\",\n          \"Disagree\"\n        ],\n        \"semantic_type\": \"\",\n        \"description\": \"\"\n      }\n    },\n    {\n      \"column\": \"Overall Engagement\",\n      \"properties\": {\n        \"dtype\": \"category\",\n        \"num_unique_values\": 5,\n        \"samples\": [\n          \"Neutral\",\n          \"Strongly Disagree\"\n        ],\n        \"semantic_type\": \"\",\n        \"description\": \"\"\n      }\n    }\n  ]\n}"
            }
          },
          "metadata": {},
          "execution_count": 4
        }
      ]
    },
    {
      "cell_type": "markdown",
      "source": [
        "#**Data Preparation**"
      ],
      "metadata": {
        "id": "_ADoYpga5g4a"
      }
    },
    {
      "cell_type": "code",
      "source": [
        "likert_scale = {\n",
        "    'Strongly Disagree': 1,\n",
        "    'Disagree': 2,\n",
        "    'Neutral': 3,\n",
        "    'Agree': 4,\n",
        "    'Strongly Agree': 5\n",
        "}"
      ],
      "metadata": {
        "id": "aezFbjpL5AVO"
      },
      "execution_count": null,
      "outputs": []
    },
    {
      "cell_type": "code",
      "source": [
        "columns = list(df.columns)"
      ],
      "metadata": {
        "id": "eG8gFa3Y5-Or"
      },
      "execution_count": null,
      "outputs": []
    },
    {
      "cell_type": "code",
      "source": [
        "columns_to_convert = columns[7:]"
      ],
      "metadata": {
        "id": "k6ko48LV52Au"
      },
      "execution_count": null,
      "outputs": []
    },
    {
      "cell_type": "code",
      "source": [
        "for column in columns_to_convert:\n",
        "  df[column] = df[column].map(likert_scale)"
      ],
      "metadata": {
        "id": "H3iABXmp6rai"
      },
      "execution_count": null,
      "outputs": []
    },
    {
      "cell_type": "code",
      "source": [
        "df.head()"
      ],
      "metadata": {
        "colab": {
          "base_uri": "https://localhost:8080/",
          "height": 347
        },
        "id": "OWoJHz4C613L",
        "outputId": "d372cbb2-71f9-4eaa-940f-9524aeb198d8"
      },
      "execution_count": null,
      "outputs": [
        {
          "output_type": "execute_result",
          "data": {
            "text/plain": [
              "              Name Age Bracket  Gender       Ethnicity           Job Title  \\\n",
              "0         John Doe       25-34  Female           Asian     Product Manager   \n",
              "1       Jane Smith       18-24  Female  Middle Eastern  Operations Manager   \n",
              "2     Carlos Reyes       45-54  Female          Indian         UX Designer   \n",
              "3      Emily Zhang       35-44    Male       Caucasian         UX Designer   \n",
              "4  Michael Johnson       18-24  Female       Caucasian         UX Designer   \n",
              "\n",
              "            Department Date Survey Completed  Job Satisfaction  \\\n",
              "0  Product Development            2024-10-05                 2   \n",
              "1                Sales            2024-10-07                 4   \n",
              "2           Consulting            2024-10-08                 3   \n",
              "3                   HR            2024-10-07                 3   \n",
              "4  Product Development            2024-10-07                 4   \n",
              "\n",
              "   Work-Life Balance  Management Support  Team Collaboration  \\\n",
              "0                  5                   3                   3   \n",
              "1                  1                   5                   3   \n",
              "2                  1                   4                   2   \n",
              "3                  4                   4                   1   \n",
              "4                  5                   2                   3   \n",
              "\n",
              "   Workload Fairness  Career Development Opportunities  Workplace Inclusivity  \\\n",
              "0                  3                                 2                      4   \n",
              "1                  3                                 2                      3   \n",
              "2                  5                                 4                      4   \n",
              "3                  1                                 5                      4   \n",
              "4                  1                                 2                      2   \n",
              "\n",
              "   Company Communication  Compensation Satisfaction  Job Security  \\\n",
              "0                      5                          5             4   \n",
              "1                      3                          3             4   \n",
              "2                      1                          3             5   \n",
              "3                      1                          1             4   \n",
              "4                      2                          1             3   \n",
              "\n",
              "   Overall Engagement  \n",
              "0                   5  \n",
              "1                   3  \n",
              "2                   5  \n",
              "3                   3  \n",
              "4                   2  "
            ],
            "text/html": [
              "\n",
              "  <div id=\"df-40ff2d88-30c1-48f4-9de1-08d3fa6e8a5d\" class=\"colab-df-container\">\n",
              "    <div>\n",
              "<style scoped>\n",
              "    .dataframe tbody tr th:only-of-type {\n",
              "        vertical-align: middle;\n",
              "    }\n",
              "\n",
              "    .dataframe tbody tr th {\n",
              "        vertical-align: top;\n",
              "    }\n",
              "\n",
              "    .dataframe thead th {\n",
              "        text-align: right;\n",
              "    }\n",
              "</style>\n",
              "<table border=\"1\" class=\"dataframe\">\n",
              "  <thead>\n",
              "    <tr style=\"text-align: right;\">\n",
              "      <th></th>\n",
              "      <th>Name</th>\n",
              "      <th>Age Bracket</th>\n",
              "      <th>Gender</th>\n",
              "      <th>Ethnicity</th>\n",
              "      <th>Job Title</th>\n",
              "      <th>Department</th>\n",
              "      <th>Date Survey Completed</th>\n",
              "      <th>Job Satisfaction</th>\n",
              "      <th>Work-Life Balance</th>\n",
              "      <th>Management Support</th>\n",
              "      <th>Team Collaboration</th>\n",
              "      <th>Workload Fairness</th>\n",
              "      <th>Career Development Opportunities</th>\n",
              "      <th>Workplace Inclusivity</th>\n",
              "      <th>Company Communication</th>\n",
              "      <th>Compensation Satisfaction</th>\n",
              "      <th>Job Security</th>\n",
              "      <th>Overall Engagement</th>\n",
              "    </tr>\n",
              "  </thead>\n",
              "  <tbody>\n",
              "    <tr>\n",
              "      <th>0</th>\n",
              "      <td>John Doe</td>\n",
              "      <td>25-34</td>\n",
              "      <td>Female</td>\n",
              "      <td>Asian</td>\n",
              "      <td>Product Manager</td>\n",
              "      <td>Product Development</td>\n",
              "      <td>2024-10-05</td>\n",
              "      <td>2</td>\n",
              "      <td>5</td>\n",
              "      <td>3</td>\n",
              "      <td>3</td>\n",
              "      <td>3</td>\n",
              "      <td>2</td>\n",
              "      <td>4</td>\n",
              "      <td>5</td>\n",
              "      <td>5</td>\n",
              "      <td>4</td>\n",
              "      <td>5</td>\n",
              "    </tr>\n",
              "    <tr>\n",
              "      <th>1</th>\n",
              "      <td>Jane Smith</td>\n",
              "      <td>18-24</td>\n",
              "      <td>Female</td>\n",
              "      <td>Middle Eastern</td>\n",
              "      <td>Operations Manager</td>\n",
              "      <td>Sales</td>\n",
              "      <td>2024-10-07</td>\n",
              "      <td>4</td>\n",
              "      <td>1</td>\n",
              "      <td>5</td>\n",
              "      <td>3</td>\n",
              "      <td>3</td>\n",
              "      <td>2</td>\n",
              "      <td>3</td>\n",
              "      <td>3</td>\n",
              "      <td>3</td>\n",
              "      <td>4</td>\n",
              "      <td>3</td>\n",
              "    </tr>\n",
              "    <tr>\n",
              "      <th>2</th>\n",
              "      <td>Carlos Reyes</td>\n",
              "      <td>45-54</td>\n",
              "      <td>Female</td>\n",
              "      <td>Indian</td>\n",
              "      <td>UX Designer</td>\n",
              "      <td>Consulting</td>\n",
              "      <td>2024-10-08</td>\n",
              "      <td>3</td>\n",
              "      <td>1</td>\n",
              "      <td>4</td>\n",
              "      <td>2</td>\n",
              "      <td>5</td>\n",
              "      <td>4</td>\n",
              "      <td>4</td>\n",
              "      <td>1</td>\n",
              "      <td>3</td>\n",
              "      <td>5</td>\n",
              "      <td>5</td>\n",
              "    </tr>\n",
              "    <tr>\n",
              "      <th>3</th>\n",
              "      <td>Emily Zhang</td>\n",
              "      <td>35-44</td>\n",
              "      <td>Male</td>\n",
              "      <td>Caucasian</td>\n",
              "      <td>UX Designer</td>\n",
              "      <td>HR</td>\n",
              "      <td>2024-10-07</td>\n",
              "      <td>3</td>\n",
              "      <td>4</td>\n",
              "      <td>4</td>\n",
              "      <td>1</td>\n",
              "      <td>1</td>\n",
              "      <td>5</td>\n",
              "      <td>4</td>\n",
              "      <td>1</td>\n",
              "      <td>1</td>\n",
              "      <td>4</td>\n",
              "      <td>3</td>\n",
              "    </tr>\n",
              "    <tr>\n",
              "      <th>4</th>\n",
              "      <td>Michael Johnson</td>\n",
              "      <td>18-24</td>\n",
              "      <td>Female</td>\n",
              "      <td>Caucasian</td>\n",
              "      <td>UX Designer</td>\n",
              "      <td>Product Development</td>\n",
              "      <td>2024-10-07</td>\n",
              "      <td>4</td>\n",
              "      <td>5</td>\n",
              "      <td>2</td>\n",
              "      <td>3</td>\n",
              "      <td>1</td>\n",
              "      <td>2</td>\n",
              "      <td>2</td>\n",
              "      <td>2</td>\n",
              "      <td>1</td>\n",
              "      <td>3</td>\n",
              "      <td>2</td>\n",
              "    </tr>\n",
              "  </tbody>\n",
              "</table>\n",
              "</div>\n",
              "    <div class=\"colab-df-buttons\">\n",
              "\n",
              "  <div class=\"colab-df-container\">\n",
              "    <button class=\"colab-df-convert\" onclick=\"convertToInteractive('df-40ff2d88-30c1-48f4-9de1-08d3fa6e8a5d')\"\n",
              "            title=\"Convert this dataframe to an interactive table.\"\n",
              "            style=\"display:none;\">\n",
              "\n",
              "  <svg xmlns=\"http://www.w3.org/2000/svg\" height=\"24px\" viewBox=\"0 -960 960 960\">\n",
              "    <path d=\"M120-120v-720h720v720H120Zm60-500h600v-160H180v160Zm220 220h160v-160H400v160Zm0 220h160v-160H400v160ZM180-400h160v-160H180v160Zm440 0h160v-160H620v160ZM180-180h160v-160H180v160Zm440 0h160v-160H620v160Z\"/>\n",
              "  </svg>\n",
              "    </button>\n",
              "\n",
              "  <style>\n",
              "    .colab-df-container {\n",
              "      display:flex;\n",
              "      gap: 12px;\n",
              "    }\n",
              "\n",
              "    .colab-df-convert {\n",
              "      background-color: #E8F0FE;\n",
              "      border: none;\n",
              "      border-radius: 50%;\n",
              "      cursor: pointer;\n",
              "      display: none;\n",
              "      fill: #1967D2;\n",
              "      height: 32px;\n",
              "      padding: 0 0 0 0;\n",
              "      width: 32px;\n",
              "    }\n",
              "\n",
              "    .colab-df-convert:hover {\n",
              "      background-color: #E2EBFA;\n",
              "      box-shadow: 0px 1px 2px rgba(60, 64, 67, 0.3), 0px 1px 3px 1px rgba(60, 64, 67, 0.15);\n",
              "      fill: #174EA6;\n",
              "    }\n",
              "\n",
              "    .colab-df-buttons div {\n",
              "      margin-bottom: 4px;\n",
              "    }\n",
              "\n",
              "    [theme=dark] .colab-df-convert {\n",
              "      background-color: #3B4455;\n",
              "      fill: #D2E3FC;\n",
              "    }\n",
              "\n",
              "    [theme=dark] .colab-df-convert:hover {\n",
              "      background-color: #434B5C;\n",
              "      box-shadow: 0px 1px 3px 1px rgba(0, 0, 0, 0.15);\n",
              "      filter: drop-shadow(0px 1px 2px rgba(0, 0, 0, 0.3));\n",
              "      fill: #FFFFFF;\n",
              "    }\n",
              "  </style>\n",
              "\n",
              "    <script>\n",
              "      const buttonEl =\n",
              "        document.querySelector('#df-40ff2d88-30c1-48f4-9de1-08d3fa6e8a5d button.colab-df-convert');\n",
              "      buttonEl.style.display =\n",
              "        google.colab.kernel.accessAllowed ? 'block' : 'none';\n",
              "\n",
              "      async function convertToInteractive(key) {\n",
              "        const element = document.querySelector('#df-40ff2d88-30c1-48f4-9de1-08d3fa6e8a5d');\n",
              "        const dataTable =\n",
              "          await google.colab.kernel.invokeFunction('convertToInteractive',\n",
              "                                                    [key], {});\n",
              "        if (!dataTable) return;\n",
              "\n",
              "        const docLinkHtml = 'Like what you see? Visit the ' +\n",
              "          '<a target=\"_blank\" href=https://colab.research.google.com/notebooks/data_table.ipynb>data table notebook</a>'\n",
              "          + ' to learn more about interactive tables.';\n",
              "        element.innerHTML = '';\n",
              "        dataTable['output_type'] = 'display_data';\n",
              "        await google.colab.output.renderOutput(dataTable, element);\n",
              "        const docLink = document.createElement('div');\n",
              "        docLink.innerHTML = docLinkHtml;\n",
              "        element.appendChild(docLink);\n",
              "      }\n",
              "    </script>\n",
              "  </div>\n",
              "\n",
              "\n",
              "<div id=\"df-0a5c4c5b-e981-474e-9d32-48b8d181273e\">\n",
              "  <button class=\"colab-df-quickchart\" onclick=\"quickchart('df-0a5c4c5b-e981-474e-9d32-48b8d181273e')\"\n",
              "            title=\"Suggest charts\"\n",
              "            style=\"display:none;\">\n",
              "\n",
              "<svg xmlns=\"http://www.w3.org/2000/svg\" height=\"24px\"viewBox=\"0 0 24 24\"\n",
              "     width=\"24px\">\n",
              "    <g>\n",
              "        <path d=\"M19 3H5c-1.1 0-2 .9-2 2v14c0 1.1.9 2 2 2h14c1.1 0 2-.9 2-2V5c0-1.1-.9-2-2-2zM9 17H7v-7h2v7zm4 0h-2V7h2v10zm4 0h-2v-4h2v4z\"/>\n",
              "    </g>\n",
              "</svg>\n",
              "  </button>\n",
              "\n",
              "<style>\n",
              "  .colab-df-quickchart {\n",
              "      --bg-color: #E8F0FE;\n",
              "      --fill-color: #1967D2;\n",
              "      --hover-bg-color: #E2EBFA;\n",
              "      --hover-fill-color: #174EA6;\n",
              "      --disabled-fill-color: #AAA;\n",
              "      --disabled-bg-color: #DDD;\n",
              "  }\n",
              "\n",
              "  [theme=dark] .colab-df-quickchart {\n",
              "      --bg-color: #3B4455;\n",
              "      --fill-color: #D2E3FC;\n",
              "      --hover-bg-color: #434B5C;\n",
              "      --hover-fill-color: #FFFFFF;\n",
              "      --disabled-bg-color: #3B4455;\n",
              "      --disabled-fill-color: #666;\n",
              "  }\n",
              "\n",
              "  .colab-df-quickchart {\n",
              "    background-color: var(--bg-color);\n",
              "    border: none;\n",
              "    border-radius: 50%;\n",
              "    cursor: pointer;\n",
              "    display: none;\n",
              "    fill: var(--fill-color);\n",
              "    height: 32px;\n",
              "    padding: 0;\n",
              "    width: 32px;\n",
              "  }\n",
              "\n",
              "  .colab-df-quickchart:hover {\n",
              "    background-color: var(--hover-bg-color);\n",
              "    box-shadow: 0 1px 2px rgba(60, 64, 67, 0.3), 0 1px 3px 1px rgba(60, 64, 67, 0.15);\n",
              "    fill: var(--button-hover-fill-color);\n",
              "  }\n",
              "\n",
              "  .colab-df-quickchart-complete:disabled,\n",
              "  .colab-df-quickchart-complete:disabled:hover {\n",
              "    background-color: var(--disabled-bg-color);\n",
              "    fill: var(--disabled-fill-color);\n",
              "    box-shadow: none;\n",
              "  }\n",
              "\n",
              "  .colab-df-spinner {\n",
              "    border: 2px solid var(--fill-color);\n",
              "    border-color: transparent;\n",
              "    border-bottom-color: var(--fill-color);\n",
              "    animation:\n",
              "      spin 1s steps(1) infinite;\n",
              "  }\n",
              "\n",
              "  @keyframes spin {\n",
              "    0% {\n",
              "      border-color: transparent;\n",
              "      border-bottom-color: var(--fill-color);\n",
              "      border-left-color: var(--fill-color);\n",
              "    }\n",
              "    20% {\n",
              "      border-color: transparent;\n",
              "      border-left-color: var(--fill-color);\n",
              "      border-top-color: var(--fill-color);\n",
              "    }\n",
              "    30% {\n",
              "      border-color: transparent;\n",
              "      border-left-color: var(--fill-color);\n",
              "      border-top-color: var(--fill-color);\n",
              "      border-right-color: var(--fill-color);\n",
              "    }\n",
              "    40% {\n",
              "      border-color: transparent;\n",
              "      border-right-color: var(--fill-color);\n",
              "      border-top-color: var(--fill-color);\n",
              "    }\n",
              "    60% {\n",
              "      border-color: transparent;\n",
              "      border-right-color: var(--fill-color);\n",
              "    }\n",
              "    80% {\n",
              "      border-color: transparent;\n",
              "      border-right-color: var(--fill-color);\n",
              "      border-bottom-color: var(--fill-color);\n",
              "    }\n",
              "    90% {\n",
              "      border-color: transparent;\n",
              "      border-bottom-color: var(--fill-color);\n",
              "    }\n",
              "  }\n",
              "</style>\n",
              "\n",
              "  <script>\n",
              "    async function quickchart(key) {\n",
              "      const quickchartButtonEl =\n",
              "        document.querySelector('#' + key + ' button');\n",
              "      quickchartButtonEl.disabled = true;  // To prevent multiple clicks.\n",
              "      quickchartButtonEl.classList.add('colab-df-spinner');\n",
              "      try {\n",
              "        const charts = await google.colab.kernel.invokeFunction(\n",
              "            'suggestCharts', [key], {});\n",
              "      } catch (error) {\n",
              "        console.error('Error during call to suggestCharts:', error);\n",
              "      }\n",
              "      quickchartButtonEl.classList.remove('colab-df-spinner');\n",
              "      quickchartButtonEl.classList.add('colab-df-quickchart-complete');\n",
              "    }\n",
              "    (() => {\n",
              "      let quickchartButtonEl =\n",
              "        document.querySelector('#df-0a5c4c5b-e981-474e-9d32-48b8d181273e button');\n",
              "      quickchartButtonEl.style.display =\n",
              "        google.colab.kernel.accessAllowed ? 'block' : 'none';\n",
              "    })();\n",
              "  </script>\n",
              "</div>\n",
              "\n",
              "    </div>\n",
              "  </div>\n"
            ],
            "application/vnd.google.colaboratory.intrinsic+json": {
              "type": "dataframe",
              "variable_name": "df",
              "summary": "{\n  \"name\": \"df\",\n  \"rows\": 15,\n  \"fields\": [\n    {\n      \"column\": \"Name\",\n      \"properties\": {\n        \"dtype\": \"string\",\n        \"num_unique_values\": 15,\n        \"samples\": [\n          \"Amara Njeri\",\n          \"Peter Brown\",\n          \"John Doe\"\n        ],\n        \"semantic_type\": \"\",\n        \"description\": \"\"\n      }\n    },\n    {\n      \"column\": \"Age Bracket\",\n      \"properties\": {\n        \"dtype\": \"category\",\n        \"num_unique_values\": 4,\n        \"samples\": [\n          \"18-24\",\n          \"35-44\",\n          \"25-34\"\n        ],\n        \"semantic_type\": \"\",\n        \"description\": \"\"\n      }\n    },\n    {\n      \"column\": \"Gender\",\n      \"properties\": {\n        \"dtype\": \"category\",\n        \"num_unique_values\": 2,\n        \"samples\": [\n          \"Male\",\n          \"Female\"\n        ],\n        \"semantic_type\": \"\",\n        \"description\": \"\"\n      }\n    },\n    {\n      \"column\": \"Ethnicity\",\n      \"properties\": {\n        \"dtype\": \"category\",\n        \"num_unique_values\": 6,\n        \"samples\": [\n          \"Asian\",\n          \"Middle Eastern\"\n        ],\n        \"semantic_type\": \"\",\n        \"description\": \"\"\n      }\n    },\n    {\n      \"column\": \"Job Title\",\n      \"properties\": {\n        \"dtype\": \"string\",\n        \"num_unique_values\": 8,\n        \"samples\": [\n          \"Operations Manager\",\n          \"HR Specialist\"\n        ],\n        \"semantic_type\": \"\",\n        \"description\": \"\"\n      }\n    },\n    {\n      \"column\": \"Department\",\n      \"properties\": {\n        \"dtype\": \"string\",\n        \"num_unique_values\": 8,\n        \"samples\": [\n          \"Sales\",\n          \"IT\"\n        ],\n        \"semantic_type\": \"\",\n        \"description\": \"\"\n      }\n    },\n    {\n      \"column\": \"Date Survey Completed\",\n      \"properties\": {\n        \"dtype\": \"object\",\n        \"num_unique_values\": 7,\n        \"samples\": [\n          \"2024-10-05\",\n          \"2024-10-07\"\n        ],\n        \"semantic_type\": \"\",\n        \"description\": \"\"\n      }\n    },\n    {\n      \"column\": \"Job Satisfaction\",\n      \"properties\": {\n        \"dtype\": \"number\",\n        \"std\": 1,\n        \"min\": 1,\n        \"max\": 5,\n        \"num_unique_values\": 5,\n        \"samples\": [\n          4,\n          1\n        ],\n        \"semantic_type\": \"\",\n        \"description\": \"\"\n      }\n    },\n    {\n      \"column\": \"Work-Life Balance\",\n      \"properties\": {\n        \"dtype\": \"number\",\n        \"std\": 1,\n        \"min\": 1,\n        \"max\": 5,\n        \"num_unique_values\": 5,\n        \"samples\": [\n          1,\n          2\n        ],\n        \"semantic_type\": \"\",\n        \"description\": \"\"\n      }\n    },\n    {\n      \"column\": \"Management Support\",\n      \"properties\": {\n        \"dtype\": \"number\",\n        \"std\": 1,\n        \"min\": 1,\n        \"max\": 5,\n        \"num_unique_values\": 5,\n        \"samples\": [\n          5,\n          1\n        ],\n        \"semantic_type\": \"\",\n        \"description\": \"\"\n      }\n    },\n    {\n      \"column\": \"Team Collaboration\",\n      \"properties\": {\n        \"dtype\": \"number\",\n        \"std\": 1,\n        \"min\": 1,\n        \"max\": 5,\n        \"num_unique_values\": 5,\n        \"samples\": [\n          2,\n          4\n        ],\n        \"semantic_type\": \"\",\n        \"description\": \"\"\n      }\n    },\n    {\n      \"column\": \"Workload Fairness\",\n      \"properties\": {\n        \"dtype\": \"number\",\n        \"std\": 1,\n        \"min\": 1,\n        \"max\": 5,\n        \"num_unique_values\": 5,\n        \"samples\": [\n          5,\n          2\n        ],\n        \"semantic_type\": \"\",\n        \"description\": \"\"\n      }\n    },\n    {\n      \"column\": \"Career Development Opportunities\",\n      \"properties\": {\n        \"dtype\": \"number\",\n        \"std\": 1,\n        \"min\": 1,\n        \"max\": 5,\n        \"num_unique_values\": 5,\n        \"samples\": [\n          4,\n          3\n        ],\n        \"semantic_type\": \"\",\n        \"description\": \"\"\n      }\n    },\n    {\n      \"column\": \"Workplace Inclusivity\",\n      \"properties\": {\n        \"dtype\": \"number\",\n        \"std\": 1,\n        \"min\": 2,\n        \"max\": 5,\n        \"num_unique_values\": 4,\n        \"samples\": [\n          3,\n          5\n        ],\n        \"semantic_type\": \"\",\n        \"description\": \"\"\n      }\n    },\n    {\n      \"column\": \"Company Communication\",\n      \"properties\": {\n        \"dtype\": \"number\",\n        \"std\": 1,\n        \"min\": 1,\n        \"max\": 5,\n        \"num_unique_values\": 5,\n        \"samples\": [\n          3,\n          4\n        ],\n        \"semantic_type\": \"\",\n        \"description\": \"\"\n      }\n    },\n    {\n      \"column\": \"Compensation Satisfaction\",\n      \"properties\": {\n        \"dtype\": \"number\",\n        \"std\": 1,\n        \"min\": 1,\n        \"max\": 5,\n        \"num_unique_values\": 5,\n        \"samples\": [\n          3,\n          2\n        ],\n        \"semantic_type\": \"\",\n        \"description\": \"\"\n      }\n    },\n    {\n      \"column\": \"Job Security\",\n      \"properties\": {\n        \"dtype\": \"number\",\n        \"std\": 1,\n        \"min\": 1,\n        \"max\": 5,\n        \"num_unique_values\": 5,\n        \"samples\": [\n          5,\n          2\n        ],\n        \"semantic_type\": \"\",\n        \"description\": \"\"\n      }\n    },\n    {\n      \"column\": \"Overall Engagement\",\n      \"properties\": {\n        \"dtype\": \"number\",\n        \"std\": 1,\n        \"min\": 1,\n        \"max\": 5,\n        \"num_unique_values\": 5,\n        \"samples\": [\n          3,\n          1\n        ],\n        \"semantic_type\": \"\",\n        \"description\": \"\"\n      }\n    }\n  ]\n}"
            }
          },
          "metadata": {},
          "execution_count": 9
        }
      ]
    },
    {
      "cell_type": "markdown",
      "source": [
        "#**Descriptive Statistics**"
      ],
      "metadata": {
        "id": "xRGvyahf7By9"
      }
    },
    {
      "cell_type": "code",
      "source": [
        "descriptive_stats = df[['Job Satisfaction', 'Overall Engagement']].describe()"
      ],
      "metadata": {
        "id": "Y2mfgEK262kZ"
      },
      "execution_count": null,
      "outputs": []
    },
    {
      "cell_type": "code",
      "source": [
        "print(descriptive_stats)"
      ],
      "metadata": {
        "colab": {
          "base_uri": "https://localhost:8080/"
        },
        "id": "PHzm6iDW7Qm8",
        "outputId": "fb485b84-d929-4164-8a82-5a6f4196f48a"
      },
      "execution_count": null,
      "outputs": [
        {
          "output_type": "stream",
          "name": "stdout",
          "text": [
            "       Job Satisfaction  Overall Engagement\n",
            "count         15.000000           15.000000\n",
            "mean           3.000000            3.400000\n",
            "std            1.309307            1.298351\n",
            "min            1.000000            1.000000\n",
            "25%            2.000000            2.500000\n",
            "50%            3.000000            3.000000\n",
            "75%            4.000000            4.500000\n",
            "max            5.000000            5.000000\n"
          ]
        }
      ]
    },
    {
      "cell_type": "markdown",
      "source": [
        "**Job satisfaction by Age bracket**"
      ],
      "metadata": {
        "id": "fwG5C0TnBsFE"
      }
    },
    {
      "cell_type": "code",
      "source": [
        "age_bracket_satisfaction = df.groupby('Age Bracket')['Job Satisfaction'].mean().reset_index().sort_values(by='Job Satisfaction', ascending=False)\n",
        "age_bracket_satisfaction.columns = ['Age Bracket', 'Mean Job Satisfaction']\n",
        "print(age_bracket_satisfaction)"
      ],
      "metadata": {
        "colab": {
          "base_uri": "https://localhost:8080/"
        },
        "id": "iB5dw21n7SR7",
        "outputId": "ad281bbf-fc00-4a6a-e0df-eb60dae854da"
      },
      "execution_count": null,
      "outputs": [
        {
          "output_type": "stream",
          "name": "stdout",
          "text": [
            "  Age Bracket  Mean Job Satisfaction\n",
            "0       18-24               3.428571\n",
            "1       25-34               3.000000\n",
            "3       45-54               2.666667\n",
            "2       35-44               2.000000\n"
          ]
        }
      ]
    },
    {
      "cell_type": "code",
      "source": [
        "plt.figure(figsize=(10, 5))\n",
        "sns.barplot(x='Age Bracket', y = 'Mean Job Satisfaction', data = age_bracket_satisfaction)\n",
        "plt.title('Mean Job satisfaction by Age Bracket')\n",
        "plt.ylabel('Mean Job satisfaction')\n",
        "plt.xlabel('Age Bracket')\n",
        "plt.xticks(rotation=45)\n",
        "plt.show()"
      ],
      "metadata": {
        "colab": {
          "base_uri": "https://localhost:8080/",
          "height": 393
        },
        "id": "OGuzcd8oBlrC",
        "outputId": "1a12f485-4d3c-4fc1-fb66-da3eaa77290b"
      },
      "execution_count": null,
      "outputs": [
        {
          "output_type": "display_data",
          "data": {
            "text/plain": [
              "<Figure size 1000x500 with 1 Axes>"
            ],
            "image/png": "[encoded data removed]"
          },
          "metadata": {}
        }
      ]
    },
    {
      "cell_type": "markdown",
      "source": [
        "1. **Insight:** Employees aged 18-24 report the highest mean job satisfaction (3.43), whereas those in the 35-44 age bracket have the lowest satisfaction (2.00).\n",
        "2. **Conclusion:** Younger employees may have a more positive perception of their roles compared to older colleagues, possibly due to differing expectations or experiences."
      ],
      "metadata": {
        "id": "yAM5W08yG8Yu"
      }
    },
    {
      "cell_type": "markdown",
      "source": [
        "**Job satisfaction by department**"
      ],
      "metadata": {
        "id": "EC5v6RBwCUmt"
      }
    },
    {
      "cell_type": "code",
      "source": [
        "department_satisfaction = df.groupby('Department')['Job Satisfaction'].mean().reset_index().sort_values(by='Job Satisfaction', ascending=False)\n",
        "department_satisfaction.columns = ['Department', 'Mean Job Satisfaction']\n",
        "print(department_satisfaction)"
      ],
      "metadata": {
        "colab": {
          "base_uri": "https://localhost:8080/"
        },
        "id": "txHVKCFu8s3p",
        "outputId": "ee244af4-c6ed-40ac-e0c8-88f496d043a5"
      },
      "execution_count": null,
      "outputs": [
        {
          "output_type": "stream",
          "name": "stdout",
          "text": [
            "            Department  Mean Job Satisfaction\n",
            "1               Design               5.000000\n",
            "2              Finance               4.000000\n",
            "3                   HR               4.000000\n",
            "0           Consulting               3.000000\n",
            "7                Sales               2.750000\n",
            "6  Product Development               2.666667\n",
            "5           Operations               2.000000\n",
            "4                   IT               1.000000\n"
          ]
        }
      ]
    },
    {
      "cell_type": "code",
      "source": [
        "plt.figure(figsize=(10, 5))\n",
        "sns.barplot(x='Department', y='Mean Job Satisfaction', data=department_satisfaction)\n",
        "plt.title('Mean Job Satisfaction by Department')\n",
        "plt.ylabel('Mean Job Satisfaction')\n",
        "plt.xlabel('Department')\n",
        "plt.xticks(rotation=45)\n",
        "plt.show()"
      ],
      "metadata": {
        "colab": {
          "base_uri": "https://localhost:8080/",
          "height": 460
        },
        "id": "g8eaMG_uCZhH",
        "outputId": "6b41238b-6c85-4a79-a6ea-2821a2fd695f"
      },
      "execution_count": null,
      "outputs": [
        {
          "output_type": "display_data",
          "data": {
            "text/plain": [
              "<Figure size 1000x500 with 1 Axes>"
            ],
            "image/png": "[encoded data removed]"
          },
          "metadata": {}
        }
      ]
    },
    {
      "cell_type": "markdown",
      "source": [
        "1. **Insight:** The Design department enjoys the highest job satisfaction (5.00), while the IT department faces significant challenges, reporting the lowest satisfaction (1.00).\n",
        "2. **Conclusion:** Investigating the factors contributing to low satisfaction in IT is crucial to improving overall employee morale."
      ],
      "metadata": {
        "id": "vYFXdVSXHMBE"
      }
    },
    {
      "cell_type": "markdown",
      "source": [
        "**Work-Life balance by Age**"
      ],
      "metadata": {
        "id": "TK_bZdSXCgWl"
      }
    },
    {
      "cell_type": "code",
      "source": [
        "age_work_life_balance = df.groupby('Age Bracket')['Work-Life Balance'].mean().reset_index().sort_values(by='Work-Life Balance', ascending=False)\n",
        "age_work_life_balance.columns = ['Age Bracket', 'Mean Work-Life Balance']\n",
        "print(age_work_life_balance)"
      ],
      "metadata": {
        "colab": {
          "base_uri": "https://localhost:8080/"
        },
        "id": "p419m7PV-dRl",
        "outputId": "78712843-e347-4967-9ad9-2e1e8e6d0039"
      },
      "execution_count": null,
      "outputs": [
        {
          "output_type": "stream",
          "name": "stdout",
          "text": [
            "  Age Bracket  Mean Work-Life Balance\n",
            "1       25-34                4.666667\n",
            "2       35-44                4.500000\n",
            "0       18-24                3.142857\n",
            "3       45-54                1.666667\n"
          ]
        }
      ]
    },
    {
      "cell_type": "code",
      "source": [
        "plt.figure(figsize=(10, 5))\n",
        "sns.barplot(x='Age Bracket', y='Mean Work-Life Balance', data=age_work_life_balance)\n",
        "plt.title('Mean Work-Life Balance by Age Bracket')\n",
        "plt.ylabel('Mean Work-Life Balance')\n",
        "plt.xlabel('Age Bracket')\n",
        "plt.show()"
      ],
      "metadata": {
        "colab": {
          "base_uri": "https://localhost:8080/",
          "height": 381
        },
        "id": "pOxGTtmjCked",
        "outputId": "f71c2e56-a4e8-4691-810d-64cc5886130b"
      },
      "execution_count": null,
      "outputs": [
        {
          "output_type": "display_data",
          "data": {
            "text/plain": [
              "<Figure size 1000x500 with 1 Axes>"
            ],
            "image/png": "[encoded data removed]"
          },
          "metadata": {}
        }
      ]
    },
    {
      "cell_type": "markdown",
      "source": [
        "1. **Insight:** Employees aged 25-34 report the best work-life balance (4.67), while those in the 45-54 age group feel significantly strained (1.67).\n",
        "2. **Conclusion:** Enhancing flexibility and support for older employees could improve their work-life balance."
      ],
      "metadata": {
        "id": "L5S9mLInHU2X"
      }
    },
    {
      "cell_type": "markdown",
      "source": [
        "**Compensation satisfaction by Age Bracket**"
      ],
      "metadata": {
        "id": "xaMQ_HiCCxZP"
      }
    },
    {
      "cell_type": "code",
      "source": [
        "age_compensation_satisfaction = df.groupby('Age Bracket')['Compensation Satisfaction'].mean().reset_index().sort_values(by='Compensation Satisfaction', ascending=False)\n",
        "age_compensation_satisfaction.columns = ['Age Bracket', 'Mean Compensation Satisfaction']\n",
        "print(age_compensation_satisfaction)"
      ],
      "metadata": {
        "colab": {
          "base_uri": "https://localhost:8080/"
        },
        "id": "7VeZMFEv-09b",
        "outputId": "715f2f20-2980-4c37-f558-1e957e85b673"
      },
      "execution_count": null,
      "outputs": [
        {
          "output_type": "stream",
          "name": "stdout",
          "text": [
            "  Age Bracket  Mean Compensation Satisfaction\n",
            "1       25-34                        3.333333\n",
            "3       45-54                        3.000000\n",
            "2       35-44                        2.500000\n",
            "0       18-24                        2.428571\n"
          ]
        }
      ]
    },
    {
      "cell_type": "code",
      "source": [
        "plt.figure(figsize=(10, 5))\n",
        "sns.barplot(x='Age Bracket', y='Mean Compensation Satisfaction', data=age_compensation_satisfaction)\n",
        "plt.title('Mean Compensation Satisfaction by Age Bracket')\n",
        "plt.ylabel('Mean Compensation Satisfaction')\n",
        "plt.xlabel('Age Bracket')\n",
        "plt.show()"
      ],
      "metadata": {
        "colab": {
          "base_uri": "https://localhost:8080/",
          "height": 375
        },
        "id": "GyiMCTaeC2IB",
        "outputId": "1ba504c5-3a82-4e42-ee14-270223a500a5"
      },
      "execution_count": null,
      "outputs": [
        {
          "output_type": "display_data",
          "data": {
            "text/plain": [
              "<Figure size 1000x500 with 1 Axes>"
            ],
            "image/png": "[encoded data removed]"
          },
          "metadata": {}
        }
      ]
    },
    {
      "cell_type": "markdown",
      "source": [
        "1. **Insight:** The 25-34 age group shows the highest compensation satisfaction (3.33), contrasting with the 18-24 group, which reports the lowest (2.43).\n",
        "2. **Conclusion:** Addressing the compensation concerns of younger employees is vital for retaining talent."
      ],
      "metadata": {
        "id": "myeJkIwCHjmW"
      }
    },
    {
      "cell_type": "markdown",
      "source": [
        "**Work-Life Balance by Gender**"
      ],
      "metadata": {
        "id": "WqWGZKF7DO2W"
      }
    },
    {
      "cell_type": "code",
      "source": [
        "gender_work_life_balance = df.groupby('Gender')['Work-Life Balance'].mean().reset_index().sort_values(by='Work-Life Balance', ascending=False)\n",
        "gender_work_life_balance.columns = ['Gender', 'Mean Work-Life Balance']\n",
        "print(gender_work_life_balance)"
      ],
      "metadata": {
        "colab": {
          "base_uri": "https://localhost:8080/"
        },
        "id": "zYBbtXcs9Ncv",
        "outputId": "25587c33-229b-43a5-8251-5b4c05b42091"
      },
      "execution_count": null,
      "outputs": [
        {
          "output_type": "stream",
          "name": "stdout",
          "text": [
            "   Gender  Mean Work-Life Balance\n",
            "1    Male                3.666667\n",
            "0  Female                3.111111\n"
          ]
        }
      ]
    },
    {
      "cell_type": "code",
      "source": [
        "plt.figure(figsize=(10, 5))\n",
        "sns.barplot(x='Gender', y='Mean Work-Life Balance', data=gender_work_life_balance)\n",
        "plt.title('Mean Work-Life Balance by Gender')\n",
        "plt.ylabel('Mean Work-Life Balance')\n",
        "plt.xlabel('Gender')\n",
        "plt.show()"
      ],
      "metadata": {
        "colab": {
          "base_uri": "https://localhost:8080/",
          "height": 375
        },
        "id": "RtatI7QPDOEV",
        "outputId": "2699201f-1c55-45cd-8250-91668efb5a0a"
      },
      "execution_count": null,
      "outputs": [
        {
          "output_type": "display_data",
          "data": {
            "text/plain": [
              "<Figure size 1000x500 with 1 Axes>"
            ],
            "image/png": "[encoded data removed]"
          },
          "metadata": {}
        }
      ]
    },
    {
      "cell_type": "markdown",
      "source": [
        "1. **Insight:** Male employees report a higher mean work-life balance (3.67) compared to female employees (3.11).\n",
        "2. **Conclusion:** There may be gender-related disparities in flexibility and support that need to be addressed."
      ],
      "metadata": {
        "id": "TB27ZuqmHqBI"
      }
    },
    {
      "cell_type": "markdown",
      "source": [
        "**Compensation Satisfaction by gender**"
      ],
      "metadata": {
        "id": "SiL-mUpcDXIK"
      }
    },
    {
      "cell_type": "code",
      "source": [
        "gender_compensation_satisfaction = df.groupby('Gender')['Compensation Satisfaction'].mean().reset_index().sort_values(by='Compensation Satisfaction', ascending=False)\n",
        "gender_compensation_satisfaction.columns = ['Gender', 'Mean Compensation Satisfaction']\n",
        "print(gender_compensation_satisfaction)"
      ],
      "metadata": {
        "colab": {
          "base_uri": "https://localhost:8080/"
        },
        "id": "Io2xggZu--aE",
        "outputId": "c3f51b99-5ab7-4730-86a6-b76fec7a6307"
      },
      "execution_count": null,
      "outputs": [
        {
          "output_type": "stream",
          "name": "stdout",
          "text": [
            "   Gender  Mean Compensation Satisfaction\n",
            "0  Female                        2.888889\n",
            "1    Male                        2.500000\n"
          ]
        }
      ]
    },
    {
      "cell_type": "code",
      "source": [
        "plt.figure(figsize=(10, 5))\n",
        "sns.barplot(x='Gender', y='Mean Compensation Satisfaction', data=gender_compensation_satisfaction)\n",
        "plt.title('Mean Compensation Satisfaction by Gender')\n",
        "plt.ylabel('Mean Compensation Satisfaction')\n",
        "plt.xlabel('Gender')\n",
        "plt.show()"
      ],
      "metadata": {
        "colab": {
          "base_uri": "https://localhost:8080/",
          "height": 375
        },
        "id": "mT11AK8oDgM0",
        "outputId": "34348268-0c63-496b-a120-1d919e54da0e"
      },
      "execution_count": null,
      "outputs": [
        {
          "output_type": "display_data",
          "data": {
            "text/plain": [
              "<Figure size 1000x500 with 1 Axes>"
            ],
            "image/png": "[encoded data removed]"
          },
          "metadata": {}
        }
      ]
    },
    {
      "cell_type": "markdown",
      "source": [
        "1. **Insight:** Female employees report higher compensation satisfaction (2.89) than their male counterparts (2.50).\n",
        "2. **Conclusion:** Investigating the underlying reasons for this trend could reveal valuable insights for compensation strategies."
      ],
      "metadata": {
        "id": "93bbfgYHHwD-"
      }
    },
    {
      "cell_type": "markdown",
      "source": [
        "**Work-Life balance by ethnicity**"
      ],
      "metadata": {
        "id": "0GESid0qEadN"
      }
    },
    {
      "cell_type": "code",
      "source": [
        "ethnicity_work_life_balance = df.groupby('Ethnicity')['Work-Life Balance'].mean().reset_index().sort_values(by='Work-Life Balance', ascending=False)\n",
        "ethnicity_work_life_balance.columns = ['Ethnicity', 'Mean Work-Life Balance']\n",
        "print(ethnicity_work_life_balance)"
      ],
      "metadata": {
        "colab": {
          "base_uri": "https://localhost:8080/"
        },
        "id": "suMXq5JS97Iw",
        "outputId": "6865c94b-ac92-401d-9d39-3e32d36fbea8"
      },
      "execution_count": null,
      "outputs": [
        {
          "output_type": "stream",
          "name": "stdout",
          "text": [
            "          Ethnicity  Mean Work-Life Balance\n",
            "2         Caucasian                4.666667\n",
            "0  African American                4.500000\n",
            "1             Asian                4.000000\n",
            "4            Indian                2.666667\n",
            "5    Middle Eastern                2.500000\n",
            "3          Hispanic                1.000000\n"
          ]
        }
      ]
    },
    {
      "cell_type": "code",
      "source": [
        "plt.figure(figsize=(10, 5))\n",
        "sns.barplot(x='Ethnicity', y='Mean Work-Life Balance', data=ethnicity_work_life_balance)\n",
        "plt.title('Mean Work-Life Balance by Ethnicity')\n",
        "plt.ylabel('Mean Work-Life Balance')\n",
        "plt.xlabel('Ethnicity')\n",
        "plt.show()"
      ],
      "metadata": {
        "colab": {
          "base_uri": "https://localhost:8080/",
          "height": 381
        },
        "id": "R-vsBlIdEd2S",
        "outputId": "825368fa-fee2-4dfa-c9e0-3ad6d6213a89"
      },
      "execution_count": null,
      "outputs": [
        {
          "output_type": "display_data",
          "data": {
            "text/plain": [
              "<Figure size 1000x500 with 1 Axes>"
            ],
            "image/png": "[encoded data removed]"
          },
          "metadata": {}
        }
      ]
    },
    {
      "cell_type": "markdown",
      "source": [
        "1. **Insight:** Caucasian employees enjoy the highest work-life balance (4.67), while Hispanic employees report the lowest (1.00).\n",
        "2. **Conclusion:** Addressing the challenges faced by underrepresented ethnic groups is essential for fostering inclusivity."
      ],
      "metadata": {
        "id": "XFNjqg_RH6Md"
      }
    },
    {
      "cell_type": "markdown",
      "source": [
        "**Compensation satisfaction by Ethnicity**"
      ],
      "metadata": {
        "id": "hjDE301iEo6k"
      }
    },
    {
      "cell_type": "code",
      "source": [
        "ethnicity_compensation_satisfaction = df.groupby('Ethnicity')['Compensation Satisfaction'].mean().reset_index().sort_values(by='Compensation Satisfaction', ascending=False)\n",
        "ethnicity_compensation_satisfaction.columns = ['Ethnicity', 'Mean Compensation Satisfaction']\n",
        "print(ethnicity_compensation_satisfaction)"
      ],
      "metadata": {
        "colab": {
          "base_uri": "https://localhost:8080/"
        },
        "id": "SEkMEC5e-Ri9",
        "outputId": "76df3a59-538c-4e86-b80e-0f3642801383"
      },
      "execution_count": null,
      "outputs": [
        {
          "output_type": "stream",
          "name": "stdout",
          "text": [
            "          Ethnicity  Mean Compensation Satisfaction\n",
            "1             Asian                        3.500000\n",
            "4            Indian                        3.333333\n",
            "3          Hispanic                        3.000000\n",
            "5    Middle Eastern                        2.750000\n",
            "0  African American                        2.500000\n",
            "2         Caucasian                        1.666667\n"
          ]
        }
      ]
    },
    {
      "cell_type": "code",
      "source": [
        "plt.figure(figsize=(10, 5))\n",
        "sns.barplot(x='Ethnicity', y='Mean Compensation Satisfaction', data=ethnicity_compensation_satisfaction)\n",
        "plt.title('Mean Compensation Satisfaction by Ethnicity')\n",
        "plt.ylabel('Mean Compensation Satisfaction')\n",
        "plt.xlabel('Ethnicity')\n",
        "plt.show()"
      ],
      "metadata": {
        "colab": {
          "base_uri": "https://localhost:8080/",
          "height": 375
        },
        "id": "c0aJRNAxEs1E",
        "outputId": "15956565-f192-47d6-ef92-7872cf82b055"
      },
      "execution_count": null,
      "outputs": [
        {
          "output_type": "display_data",
          "data": {
            "text/plain": [
              "<Figure size 1000x500 with 1 Axes>"
            ],
            "image/png": "[encoded data removed]"
          },
          "metadata": {}
        }
      ]
    },
    {
      "cell_type": "markdown",
      "source": [
        "1. **Insight:** Asian employees have the highest compensation satisfaction (3.50), whereas Caucasian employees report the lowest (1.67).\n",
        "2. **Conclusion:** Ensuring equitable compensation across ethnicities should be a priority for the organization."
      ],
      "metadata": {
        "id": "6PZep6IhH-ma"
      }
    },
    {
      "cell_type": "markdown",
      "source": [
        "# **Inferential Statistics**"
      ],
      "metadata": {
        "id": "P2EhTh4ZJA70"
      }
    },
    {
      "cell_type": "markdown",
      "source": [
        "1. **Null Hypothesis (H0):** There is no statistically significant difference in Job Satisfaction between the IT and HR departments.\n",
        "2. **Alternative Hypothesis (H1):** There is a statistically significant difference in Job Satisfaction between the IT and HR departments.\n"
      ],
      "metadata": {
        "id": "r2R2eaCY9gZc"
      }
    },
    {
      "cell_type": "code",
      "source": [
        "# filtering job satisfaction for IT and HR departments\n",
        "it_satisfaction = df[df['Department'] == 'IT']['Job Satisfaction']\n",
        "hr_satisfaction = df[df['Department'] == 'HR']['Job Satisfaction']"
      ],
      "metadata": {
        "id": "ixJc2K7ZAm1y"
      },
      "execution_count": null,
      "outputs": []
    },
    {
      "cell_type": "code",
      "source": [
        "from scipy.stats import mannwhitneyu"
      ],
      "metadata": {
        "id": "QG80SecPCx8W"
      },
      "execution_count": null,
      "outputs": []
    },
    {
      "cell_type": "code",
      "source": [
        "# performing an independent t-test\n",
        "stat, p_value = mannwhitneyu(hr_satisfaction, it_satisfaction, alternative='two-sided')"
      ],
      "metadata": {
        "id": "-GsR17K__WSX"
      },
      "execution_count": null,
      "outputs": []
    },
    {
      "cell_type": "code",
      "source": [
        "print(f'stat: {stat}')\n",
        "print(f'P-Value: {p_value}')"
      ],
      "metadata": {
        "colab": {
          "base_uri": "https://localhost:8080/"
        },
        "id": "ZmsJEv-9_rhr",
        "outputId": "26f5bb6d-8e58-4211-c605-8b903cf49ee4"
      },
      "execution_count": null,
      "outputs": [
        {
          "output_type": "stream",
          "name": "stdout",
          "text": [
            "stat: 2.0\n",
            "P-Value: 0.6666666666666666\n"
          ]
        }
      ]
    },
    {
      "cell_type": "code",
      "source": [
        "alpha = 0.05\n",
        "if p_value < alpha:\n",
        "  print('Reject the null hypothesis: There is a statistically significant difference in Job satisfaction between the IT and HR departments.')\n",
        "else:\n",
        "  print(\"Fail to reject the null hypothesis: There is no statistically significant difference in Job Satisfaction between IT and HR departments.\")"
      ],
      "metadata": {
        "colab": {
          "base_uri": "https://localhost:8080/"
        },
        "id": "lRfcBSsi_3yc",
        "outputId": "c949924d-c14a-42d7-b516-6edebb7c44ed"
      },
      "execution_count": null,
      "outputs": [
        {
          "output_type": "stream",
          "name": "stdout",
          "text": [
            "Fail to reject the null hypothesis: There is no statistically significant difference in Job Satisfaction between IT and HR departments.\n"
          ]
        }
      ]
    },
    {
      "cell_type": "markdown",
      "source": [
        "The t-test could not be performed to compare job satisfaction between the IT and HR departments due to the insufficient sample size in the IT department, which has only one response. The t-test requires at least two observations in each group to calculate the variability (standard deviation). Without enough data points in the IT group, the standard deviation becomes undefined (NaN), making it impossible to run the t-test.\n",
        "\n"
      ],
      "metadata": {
        "id": "OaA2UEcuED9o"
      }
    },
    {
      "cell_type": "code",
      "source": [
        "job_satisfaction_stats = df.groupby('Department')['Job Satisfaction'].agg(['count', 'std', 'mean'])\n",
        "print(job_satisfaction_stats)"
      ],
      "metadata": {
        "colab": {
          "base_uri": "https://localhost:8080/"
        },
        "id": "crzA6yteAWe6",
        "outputId": "7f51b185-4b9a-4a0c-e1f6-b864505b931d"
      },
      "execution_count": null,
      "outputs": [
        {
          "output_type": "stream",
          "name": "stdout",
          "text": [
            "                     count       std      mean\n",
            "Department                                    \n",
            "Consulting               2  0.000000  3.000000\n",
            "Design                   1       NaN  5.000000\n",
            "Finance                  1       NaN  4.000000\n",
            "HR                       2  1.414214  4.000000\n",
            "IT                       1       NaN  1.000000\n",
            "Operations               1       NaN  2.000000\n",
            "Product Development      3  1.154701  2.666667\n",
            "Sales                    4  1.500000  2.750000\n"
          ]
        }
      ]
    },
    {
      "cell_type": "markdown",
      "source": [
        "**Now, here we used Bootstrap to resolve this issue**\n",
        "\n",
        "\n",
        "\n"
      ],
      "metadata": {
        "id": "Cen6aM1KEZJ1"
      }
    },
    {
      "cell_type": "code",
      "source": [
        "# Number of bootstrap samples\n",
        "n_iterations = 1000\n",
        "\n",
        "# Bootstrapping function to calculate mean\n",
        "def bootstrap_mean(data, n_iterations=1000):\n",
        "    means = []\n",
        "    for _ in range(n_iterations):\n",
        "        sample = np.random.choice(data, size=len(data), replace=True)\n",
        "        means.append(np.mean(sample))\n",
        "    return means\n",
        "\n",
        "# Generate bootstrap samples for HR and IT\n",
        "hr_bootstrap_means = bootstrap_mean(hr_satisfaction, n_iterations)\n",
        "it_bootstrap_means = bootstrap_mean(it_satisfaction, n_iterations)\n",
        "\n",
        "# Calculate the confidence intervals\n",
        "hr_ci = np.percentile(hr_bootstrap_means, [2.5, 97.5])\n",
        "it_ci = np.percentile(it_bootstrap_means, [2.5, 97.5])\n",
        "\n",
        "print(f\"HR Bootstrap 95% CI: {hr_ci}\")\n",
        "print(f\"IT Bootstrap 95% CI: {it_ci}\")\n",
        "\n",
        "# Interpretation\n",
        "if it_ci[0] > hr_ci[1] or it_ci[1] < hr_ci[0]:\n",
        "    print(\"There is a significant difference in Job Satisfaction between HR and IT.\")\n",
        "else:\n",
        "    print(\"There is no significant difference in Job Satisfaction between HR and IT.\")\n"
      ],
      "metadata": {
        "colab": {
          "base_uri": "https://localhost:8080/"
        },
        "id": "FOTZweYQBwKc",
        "outputId": "12a47582-a556-47e2-a6d2-c40089c264e0"
      },
      "execution_count": null,
      "outputs": [
        {
          "output_type": "stream",
          "name": "stdout",
          "text": [
            "HR Bootstrap 95% CI: [3. 5.]\n",
            "IT Bootstrap 95% CI: [1. 1.]\n",
            "There is a significant difference in Job Satisfaction between HR and IT.\n"
          ]
        }
      ]
    },
    {
      "cell_type": "code",
      "source": [
        "work_life_balance = df['Work-Life Balance']\n",
        "overall_engagement = df['Overall Engagement']\n",
        "\n",
        "correlation_coefficient, p_value = pearsonr(work_life_balance, overall_engagement)"
      ],
      "metadata": {
        "id": "XrdqOIqWDeaZ"
      },
      "execution_count": null,
      "outputs": []
    },
    {
      "cell_type": "code",
      "source": [
        "print(f\"Pearson Correlation coefficient: {correlation_coefficient}\")\n",
        "print(f\"P-value: {p_value}\")"
      ],
      "metadata": {
        "colab": {
          "base_uri": "https://localhost:8080/"
        },
        "id": "4YussLzhQ2Z7",
        "outputId": "198898b7-f2a7-4947-eca6-51840b246655"
      },
      "execution_count": null,
      "outputs": [
        {
          "output_type": "stream",
          "name": "stdout",
          "text": [
            "Pearson Correlation coefficient: -0.361040820409166\n",
            "P-value: 0.18612659993280437\n"
          ]
        }
      ]
    },
    {
      "cell_type": "code",
      "source": [
        "plt.figure(figsize=(8, 6))\n",
        "\n",
        "# Create scatter plot\n",
        "plt.scatter(df['Work-Life Balance'], df['Overall Engagement'], color='blue', alpha=0.6)\n",
        "\n",
        "# Add title and labels\n",
        "plt.title('Correlation Between Work-Life Balance and Overall Engagement', fontsize=16)\n",
        "plt.xlabel('Work-Life Balance (Likert Scale)', fontsize=12)\n",
        "plt.ylabel('Overall Engagement (Likert Scale)', fontsize=12)\n",
        "\n",
        "# Show the plot\n",
        "plt.show()"
      ],
      "metadata": {
        "colab": {
          "base_uri": "https://localhost:8080/",
          "height": 495
        },
        "id": "e1jgPXwzQ_ku",
        "outputId": "325d981e-81e7-4865-ee88-5a5be1858d44"
      },
      "execution_count": null,
      "outputs": [
        {
          "output_type": "display_data",
          "data": {
            "text/plain": [
              "<Figure size 800x600 with 1 Axes>"
            ],
            "image/png": "[encoded data removed]"
          },
          "metadata": {}
        }
      ]
    },
    {
      "cell_type": "markdown",
      "source": [
        "As the correlation we got -0.3, it means work-life balance and overall engangement are negatively correlated"
      ],
      "metadata": {
        "id": "756ba2HrTtV1"
      }
    },
    {
      "cell_type": "markdown",
      "source": [
        "#**Recommendations**\n",
        "Based on the findings, I recommend the following actions:\n",
        "\n",
        "1. **Enhance Job Satisfaction in IT:** Conduct focus groups to identify specific issues within the IT department and develop tailored interventions.\n",
        "2. **Implement Age-Specific Initiatives:** Create programs that address the unique needs of different age groups, particularly for those reporting lower satisfaction.\n",
        "3. **Promote Work-Life Balance:** Develop policies that offer flexible work arrangements, especially for employees in the 45-54 age bracket.\n",
        "4. **Address Gender Disparities:** Review workplace policies to ensure equitable support and flexibility for all genders.\n",
        "5. **Foster Inclusivity:** Implement initiatives that promote equity across all ethnicities, particularly for those reporting lower satisfaction levels."
      ],
      "metadata": {
        "id": "v83IkS3yvBcZ"
      }
    },
    {
      "cell_type": "markdown",
      "source": [
        "## **Conclusion**\n",
        "\n",
        "This analysis of the employee experience survey provides valuable insights into the overall workforce dynamics of the organization. Key findings include significant differences in job satisfaction across departments, especially between IT and other departments like Design and HR. Additionally, demographic factors such as age, gender, and ethnicity influence various aspects of employee experience, such as work-life balance and compensation satisfaction.\n",
        "\n",
        "The correlation between work-life balance and overall engagement highlights the importance of work-life balance in maintaining a motivated and engaged workforce. These findings can guide the organization's efforts to enhance employee satisfaction and address disparities across different groups, ultimately fostering a more inclusive and supportive work environment.\n"
      ],
      "metadata": {
        "id": "SOLNSNdDvVrU"
      }
    },
    {
      "cell_type": "code",
      "source": [],
      "metadata": {
        "id": "rkWd5cBLRh6s"
      },
      "execution_count": null,
      "outputs": []
    }
  ]
}